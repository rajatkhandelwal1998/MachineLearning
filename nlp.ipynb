{
 "cells": [
  {
   "cell_type": "code",
   "execution_count": 1,
   "metadata": {},
   "outputs": [],
   "source": [
    "#pip install nltk-natural language toolkit"
   ]
  },
  {
   "cell_type": "code",
   "execution_count": 2,
   "metadata": {},
   "outputs": [],
   "source": [
    "import nltk"
   ]
  },
  {
   "cell_type": "code",
   "execution_count": 3,
   "metadata": {},
   "outputs": [
    {
     "name": "stderr",
     "output_type": "stream",
     "text": [
      "[nltk_data] Downloading package movie_reviews to C:\\Users\\RAJAT\n",
      "[nltk_data]     KHANDELWAL\\AppData\\Roaming\\nltk_data...\n",
      "[nltk_data]   Package movie_reviews is already up-to-date!\n"
     ]
    },
    {
     "data": {
      "text/plain": [
       "True"
      ]
     },
     "execution_count": 3,
     "metadata": {},
     "output_type": "execute_result"
    }
   ],
   "source": [
    "nltk.download('movie_reviews')"
   ]
  },
  {
   "cell_type": "code",
   "execution_count": 4,
   "metadata": {},
   "outputs": [],
   "source": [
    "from nltk.corpus import movie_reviews"
   ]
  },
  {
   "cell_type": "code",
   "execution_count": 5,
   "metadata": {},
   "outputs": [
    {
     "data": {
      "text/plain": [
       "2000"
      ]
     },
     "execution_count": 5,
     "metadata": {},
     "output_type": "execute_result"
    }
   ],
   "source": [
    "len(movie_reviews.fileids())"
   ]
  },
  {
   "cell_type": "code",
   "execution_count": 6,
   "metadata": {},
   "outputs": [
    {
     "data": {
      "text/plain": [
       "['neg/cv000_29416.txt',\n",
       " 'neg/cv001_19502.txt',\n",
       " 'neg/cv002_17424.txt',\n",
       " 'neg/cv003_12683.txt',\n",
       " 'neg/cv004_12641.txt']"
      ]
     },
     "execution_count": 6,
     "metadata": {},
     "output_type": "execute_result"
    }
   ],
   "source": [
    "movie_reviews.fileids()[:5]"
   ]
  },
  {
   "cell_type": "code",
   "execution_count": 7,
   "metadata": {},
   "outputs": [
    {
     "data": {
      "text/plain": [
       "['pos/cv995_21821.txt',\n",
       " 'pos/cv996_11592.txt',\n",
       " 'pos/cv997_5046.txt',\n",
       " 'pos/cv998_14111.txt',\n",
       " 'pos/cv999_13106.txt']"
      ]
     },
     "execution_count": 7,
     "metadata": {},
     "output_type": "execute_result"
    }
   ],
   "source": [
    "movie_reviews.fileids()[-5:]"
   ]
  },
  {
   "cell_type": "code",
   "execution_count": 8,
   "metadata": {},
   "outputs": [],
   "source": [
    "negative_fileids=movie_reviews.fileids('neg')"
   ]
  },
  {
   "cell_type": "code",
   "execution_count": 9,
   "metadata": {},
   "outputs": [],
   "source": [
    "positive_fileids=movie_reviews.fileids('pos')"
   ]
  },
  {
   "cell_type": "code",
   "execution_count": 10,
   "metadata": {},
   "outputs": [
    {
     "data": {
      "text/plain": [
       "(1000, 1000)"
      ]
     },
     "execution_count": 10,
     "metadata": {},
     "output_type": "execute_result"
    }
   ],
   "source": [
    "len(negative_fileids),len(positive_fileids)"
   ]
  },
  {
   "cell_type": "code",
   "execution_count": 11,
   "metadata": {},
   "outputs": [
    {
     "name": "stdout",
     "output_type": "stream",
     "text": [
      "films adapted from comic books have had plenty of success , whether they're about superheroes ( batman , superman , spawn ) , or geared toward kids ( casper ) or the arthouse crowd ( ghost world ) , but there's never really been a comic book like from hell before . \n",
      "for starters , it was created by alan moore ( and eddie campbell ) , who brought the medium to a whole new level in the mid '80s with a 12-part series called the watchmen . \n",
      "to say moore and campbell thoroughly researched the subject of jack the ripper would be like saying michael jackson is starting to look a little odd . \n",
      "the book ( or \" graphic novel , \" if you will ) is over 500 pages long and includes nearly 30 more that consist of nothing but footnotes . \n",
      "in other words , don't dismiss this film because of its source . \n",
      "if you can get past the whole comic book thing , you might find another stumbling block in from hell's directors , albert and allen hughes . \n",
      "getting the hughes brothers to direct this seems almost as ludicrous as casting carrot top in , well , anything , but riddle me this : who better to direct a film that's set in the ghetto and features really violent street crime than the mad geniuses behind menace ii society ? \n",
      "the ghetto in question is , of course , whitechapel in 1888 london's east end . \n",
      "it's a filthy , sooty place where the whores ( called \" unfortunates \" ) are starting to get a little nervous about this mysterious psychopath who has been carving through their profession with surgical precision . \n",
      "when the first stiff turns up , copper peter godley ( robbie coltrane , the world is not enough ) calls in inspector frederick abberline ( johnny depp , blow ) to crack the case . \n",
      "abberline , a widower , has prophetic dreams he unsuccessfully tries to quell with copious amounts of absinthe and opium . \n",
      "upon arriving in whitechapel , he befriends an unfortunate named mary kelly ( heather graham , say it isn't so ) and proceeds to investigate the horribly gruesome crimes that even the police surgeon can't stomach . \n",
      "i don't think anyone needs to be briefed on jack the ripper , so i won't go into the particulars here , other than to say moore and campbell have a unique and interesting theory about both the identity of the killer and the reasons he chooses to slay . \n",
      "in the comic , they don't bother cloaking the identity of the ripper , but screenwriters terry hayes ( vertical limit ) and rafael yglesias ( les mis ? rables ) do a good job of keeping him hidden from viewers until the very end . \n",
      "it's funny to watch the locals blindly point the finger of blame at jews and indians because , after all , an englishman could never be capable of committing such ghastly acts . \n",
      "and from hell's ending had me whistling the stonecutters song from the simpsons for days ( \" who holds back the electric car/who made steve guttenberg a star ? \" ) . \n",
      "don't worry - it'll all make sense when you see it . \n",
      "now onto from hell's appearance : it's certainly dark and bleak enough , and it's surprising to see how much more it looks like a tim burton film than planet of the apes did ( at times , it seems like sleepy hollow 2 ) . \n",
      "the print i saw wasn't completely finished ( both color and music had not been finalized , so no comments about marilyn manson ) , but cinematographer peter deming ( don't say a word ) ably captures the dreariness of victorian-era london and helped make the flashy killing scenes remind me of the crazy flashbacks in twin peaks , even though the violence in the film pales in comparison to that in the black-and-white comic . \n",
      "oscar winner martin childs' ( shakespeare in love ) production design turns the original prague surroundings into one creepy place . \n",
      "even the acting in from hell is solid , with the dreamy depp turning in a typically strong performance and deftly handling a british accent . \n",
      "ians holm ( joe gould's secret ) and richardson ( 102 dalmatians ) log in great supporting roles , but the big surprise here is graham . \n",
      "i cringed the first time she opened her mouth , imagining her attempt at an irish accent , but it actually wasn't half bad . \n",
      "the film , however , is all good . \n",
      "2 : 00 - r for strong violence/gore , sexuality , language and drug content \n",
      "\n"
     ]
    }
   ],
   "source": [
    "print(movie_reviews.raw(fileids=positive_fileids[0]))"
   ]
  },
  {
   "cell_type": "code",
   "execution_count": 12,
   "metadata": {},
   "outputs": [
    {
     "name": "stdout",
     "output_type": "stream",
     "text": [
      "plot : two teen couples go to a church party , drink and then drive . \n",
      "they get into an accident . \n",
      "one of the guys dies , but his girlfriend continues to see him in her life , and has nightmares . \n",
      "what's the deal ? \n",
      "watch the movie and \" sorta \" find out . . . \n",
      "critique : a mind-fuck movie for the teen generation that touches on a very cool idea , but presents it in a very bad package . \n",
      "which is what makes this review an even harder one to write , since i generally applaud films which attempt to break the mold , mess with your head and such ( lost highway & memento ) , but there are good and bad ways of making all types of films , and these folks just didn't snag this one correctly . \n",
      "they seem to have taken this pretty neat concept , but executed it terribly . \n",
      "so what are the problems with the movie ? \n",
      "well , its main problem is that it's simply too jumbled . \n",
      "it starts off \" normal \" but then downshifts into this \" fantasy \" world in which you , as an audience member , have no idea what's going on . \n",
      "there are dreams , there are characters coming back from the dead , there are others who look like the dead , there are strange apparitions , there are disappearances , there are a looooot of chase scenes , there are tons of weird things that happen , and most of it is simply not explained . \n",
      "now i personally don't mind trying to unravel a film every now and then , but when all it does is give me the same clue over and over again , i get kind of fed up after a while , which is this film's biggest problem . \n",
      "it's obviously got this big secret to hide , but it seems to want to hide it completely until its final five minutes . \n",
      "and do they make things entertaining , thrilling or even engaging , in the meantime ? \n",
      "not really . \n",
      "the sad part is that the arrow and i both dig on flicks like this , so we actually figured most of it out by the half-way point , so all of the strangeness after that did start to make a little bit of sense , but it still didn't the make the film all that more entertaining . \n",
      "i guess the bottom line with movies like this is that you should always make sure that the audience is \" into it \" even before they are given the secret password to enter your world of understanding . \n",
      "i mean , showing melissa sagemiller running away from visions for about 20 minutes throughout the movie is just plain lazy ! ! \n",
      "okay , we get it . . . there \n",
      "are people chasing her and we don't know who they are . \n",
      "do we really need to see it over and over again ? \n",
      "how about giving us different scenes offering further insight into all of the strangeness going down in the movie ? \n",
      "apparently , the studio took this film away from its director and chopped it up themselves , and it shows . \n",
      "there might've been a pretty decent teen mind-fuck movie in here somewhere , but i guess \" the suits \" decided that turning it into a music video with little edge , would make more sense . \n",
      "the actors are pretty good for the most part , although wes bentley just seemed to be playing the exact same character that he did in american beauty , only in a new neighborhood . \n",
      "but my biggest kudos go out to sagemiller , who holds her own throughout the entire film , and actually has you feeling her character's unraveling . \n",
      "overall , the film doesn't stick because it doesn't entertain , it's confusing , it rarely excites and it feels pretty redundant for most of its runtime , despite a pretty cool ending and explanation to all of the craziness that came before it . \n",
      "oh , and by the way , this is not a horror or teen slasher flick . . . it's \n",
      "just packaged to look that way because someone is apparently assuming that the genre is still hot with the kids . \n",
      "it also wrapped production two years ago and has been sitting on the shelves ever since . \n",
      "whatever . . . skip \n",
      "it ! \n",
      "where's joblo coming from ? \n",
      "a nightmare of elm street 3 ( 7/10 ) - blair witch 2 ( 7/10 ) - the crow ( 9/10 ) - the crow : salvation ( 4/10 ) - lost highway ( 10/10 ) - memento ( 10/10 ) - the others ( 9/10 ) - stir of echoes ( 8/10 ) \n",
      "\n"
     ]
    }
   ],
   "source": [
    "print(movie_reviews.raw(fileids=negative_fileids[0]))"
   ]
  },
  {
   "cell_type": "code",
   "execution_count": 13,
   "metadata": {},
   "outputs": [],
   "source": [
    "romeo_text='''why then, O brawling love ! O loving hate! O any thing,of nothing first create!\n",
    "O heavy lightness,serious vanity,\n",
    "Misshape chaos of well-seeming forms\n",
    "feature of lead, bright smoke,cold fire,sick health,\n",
    "Still-waking sleep,that is not what it is!\n",
    "This love feel I,that feel no love in this.'''"
   ]
  },
  {
   "cell_type": "code",
   "execution_count": 14,
   "metadata": {},
   "outputs": [
    {
     "name": "stderr",
     "output_type": "stream",
     "text": [
      "[nltk_data] Downloading package punkt to C:\\Users\\RAJAT\n",
      "[nltk_data]     KHANDELWAL\\AppData\\Roaming\\nltk_data...\n",
      "[nltk_data]   Package punkt is already up-to-date!\n"
     ]
    },
    {
     "data": {
      "text/plain": [
       "True"
      ]
     },
     "execution_count": 14,
     "metadata": {},
     "output_type": "execute_result"
    }
   ],
   "source": [
    "nltk.download('punkt')#punkt= to train english words"
   ]
  },
  {
   "cell_type": "code",
   "execution_count": 15,
   "metadata": {},
   "outputs": [
    {
     "data": {
      "text/plain": [
       "['why',\n",
       " 'then',\n",
       " ',',\n",
       " 'O',\n",
       " 'brawling',\n",
       " 'love',\n",
       " '!',\n",
       " 'O',\n",
       " 'loving',\n",
       " 'hate',\n",
       " '!',\n",
       " 'O',\n",
       " 'any',\n",
       " 'thing',\n",
       " ',',\n",
       " 'of',\n",
       " 'nothing',\n",
       " 'first',\n",
       " 'create',\n",
       " '!',\n",
       " 'O',\n",
       " 'heavy',\n",
       " 'lightness',\n",
       " ',',\n",
       " 'serious',\n",
       " 'vanity',\n",
       " ',',\n",
       " 'Misshape',\n",
       " 'chaos',\n",
       " 'of',\n",
       " 'well-seeming',\n",
       " 'forms',\n",
       " 'feature',\n",
       " 'of',\n",
       " 'lead',\n",
       " ',',\n",
       " 'bright',\n",
       " 'smoke',\n",
       " ',',\n",
       " 'cold',\n",
       " 'fire',\n",
       " ',',\n",
       " 'sick',\n",
       " 'health',\n",
       " ',',\n",
       " 'Still-waking',\n",
       " 'sleep',\n",
       " ',',\n",
       " 'that',\n",
       " 'is',\n",
       " 'not',\n",
       " 'what',\n",
       " 'it',\n",
       " 'is',\n",
       " '!',\n",
       " 'This',\n",
       " 'love',\n",
       " 'feel',\n",
       " 'I',\n",
       " ',',\n",
       " 'that',\n",
       " 'feel',\n",
       " 'no',\n",
       " 'love',\n",
       " 'in',\n",
       " 'this',\n",
       " '.']"
      ]
     },
     "execution_count": 15,
     "metadata": {},
     "output_type": "execute_result"
    }
   ],
   "source": [
    "romeo_words=nltk.word_tokenize(romeo_text)\n",
    "romeo_words"
   ]
  },
  {
   "cell_type": "code",
   "execution_count": 16,
   "metadata": {},
   "outputs": [],
   "source": [
    "def build_bag_of_words_features(words):return{ word:True for word in words}"
   ]
  },
  {
   "cell_type": "code",
   "execution_count": 17,
   "metadata": {},
   "outputs": [
    {
     "data": {
      "text/plain": [
       "{'why': True,\n",
       " 'then': True,\n",
       " ',': True,\n",
       " 'O': True,\n",
       " 'brawling': True,\n",
       " 'love': True,\n",
       " '!': True,\n",
       " 'loving': True,\n",
       " 'hate': True,\n",
       " 'any': True,\n",
       " 'thing': True,\n",
       " 'of': True,\n",
       " 'nothing': True,\n",
       " 'first': True,\n",
       " 'create': True,\n",
       " 'heavy': True,\n",
       " 'lightness': True,\n",
       " 'serious': True,\n",
       " 'vanity': True,\n",
       " 'Misshape': True,\n",
       " 'chaos': True,\n",
       " 'well-seeming': True,\n",
       " 'forms': True,\n",
       " 'feature': True,\n",
       " 'lead': True,\n",
       " 'bright': True,\n",
       " 'smoke': True,\n",
       " 'cold': True,\n",
       " 'fire': True,\n",
       " 'sick': True,\n",
       " 'health': True,\n",
       " 'Still-waking': True,\n",
       " 'sleep': True,\n",
       " 'that': True,\n",
       " 'is': True,\n",
       " 'not': True,\n",
       " 'what': True,\n",
       " 'it': True,\n",
       " 'This': True,\n",
       " 'feel': True,\n",
       " 'I': True,\n",
       " 'no': True,\n",
       " 'in': True,\n",
       " 'this': True,\n",
       " '.': True}"
      ]
     },
     "execution_count": 17,
     "metadata": {},
     "output_type": "execute_result"
    }
   ],
   "source": [
    "build_bag_of_words_features(romeo_words)"
   ]
  },
  {
   "cell_type": "code",
   "execution_count": 18,
   "metadata": {},
   "outputs": [
    {
     "name": "stderr",
     "output_type": "stream",
     "text": [
      "[nltk_data] Downloading package stopwords to C:\\Users\\RAJAT\n",
      "[nltk_data]     KHANDELWAL\\AppData\\Roaming\\nltk_data...\n",
      "[nltk_data]   Package stopwords is already up-to-date!\n"
     ]
    },
    {
     "data": {
      "text/plain": [
       "True"
      ]
     },
     "execution_count": 18,
     "metadata": {},
     "output_type": "execute_result"
    }
   ],
   "source": [
    "nltk.download('stopwords')"
   ]
  },
  {
   "cell_type": "code",
   "execution_count": 19,
   "metadata": {},
   "outputs": [],
   "source": [
    "import string"
   ]
  },
  {
   "cell_type": "code",
   "execution_count": 20,
   "metadata": {},
   "outputs": [
    {
     "data": {
      "text/plain": [
       "'!\"#$%&\\'()*+,-./:;<=>?@[\\\\]^_`{|}~'"
      ]
     },
     "execution_count": 20,
     "metadata": {},
     "output_type": "execute_result"
    }
   ],
   "source": [
    "string.punctuation"
   ]
  },
  {
   "cell_type": "code",
   "execution_count": 21,
   "metadata": {},
   "outputs": [],
   "source": [
    "useless_words=nltk.corpus.stopwords.words('english')+list(string.punctuation)"
   ]
  },
  {
   "cell_type": "code",
   "execution_count": 22,
   "metadata": {},
   "outputs": [],
   "source": [
    "def build_bag_of_words_features_filtered(words):return{word:1 for word in words if word not in useless_words}"
   ]
  },
  {
   "cell_type": "code",
   "execution_count": 23,
   "metadata": {},
   "outputs": [
    {
     "data": {
      "text/plain": [
       "{'O': 1,\n",
       " 'brawling': 1,\n",
       " 'love': 1,\n",
       " 'loving': 1,\n",
       " 'hate': 1,\n",
       " 'thing': 1,\n",
       " 'nothing': 1,\n",
       " 'first': 1,\n",
       " 'create': 1,\n",
       " 'heavy': 1,\n",
       " 'lightness': 1,\n",
       " 'serious': 1,\n",
       " 'vanity': 1,\n",
       " 'Misshape': 1,\n",
       " 'chaos': 1,\n",
       " 'well-seeming': 1,\n",
       " 'forms': 1,\n",
       " 'feature': 1,\n",
       " 'lead': 1,\n",
       " 'bright': 1,\n",
       " 'smoke': 1,\n",
       " 'cold': 1,\n",
       " 'fire': 1,\n",
       " 'sick': 1,\n",
       " 'health': 1,\n",
       " 'Still-waking': 1,\n",
       " 'sleep': 1,\n",
       " 'This': 1,\n",
       " 'feel': 1,\n",
       " 'I': 1}"
      ]
     },
     "execution_count": 23,
     "metadata": {},
     "output_type": "execute_result"
    }
   ],
   "source": [
    "build_bag_of_words_features_filtered(romeo_words)"
   ]
  },
  {
   "cell_type": "code",
   "execution_count": 24,
   "metadata": {},
   "outputs": [],
   "source": [
    "all_words=movie_reviews.words()"
   ]
  },
  {
   "cell_type": "code",
   "execution_count": 25,
   "metadata": {},
   "outputs": [
    {
     "data": {
      "text/plain": [
       "1583820"
      ]
     },
     "execution_count": 25,
     "metadata": {},
     "output_type": "execute_result"
    }
   ],
   "source": [
    "len(all_words)"
   ]
  },
  {
   "cell_type": "code",
   "execution_count": 26,
   "metadata": {},
   "outputs": [],
   "source": [
    "filtered_words=[word for word in movie_reviews.words() if word not in useless_words]"
   ]
  },
  {
   "cell_type": "code",
   "execution_count": 27,
   "metadata": {},
   "outputs": [
    {
     "data": {
      "text/plain": [
       "710579"
      ]
     },
     "execution_count": 27,
     "metadata": {},
     "output_type": "execute_result"
    }
   ],
   "source": [
    "len(filtered_words)"
   ]
  },
  {
   "cell_type": "code",
   "execution_count": 28,
   "metadata": {},
   "outputs": [],
   "source": [
    "from collections import Counter"
   ]
  },
  {
   "cell_type": "code",
   "execution_count": 29,
   "metadata": {},
   "outputs": [],
   "source": [
    "word_counter=Counter(filtered_words)"
   ]
  },
  {
   "cell_type": "code",
   "execution_count": 30,
   "metadata": {},
   "outputs": [
    {
     "data": {
      "text/plain": [
       "10"
      ]
     },
     "execution_count": 30,
     "metadata": {},
     "output_type": "execute_result"
    }
   ],
   "source": [
    "most_common_words=word_counter.most_common()[:10]\n",
    "len(most_common_words)"
   ]
  },
  {
   "cell_type": "code",
   "execution_count": 31,
   "metadata": {},
   "outputs": [],
   "source": [
    "%matplotlib inline\n"
   ]
  },
  {
   "cell_type": "code",
   "execution_count": 32,
   "metadata": {},
   "outputs": [],
   "source": [
    "from matplotlib import pyplot as plt"
   ]
  },
  {
   "cell_type": "code",
   "execution_count": 33,
   "metadata": {},
   "outputs": [
    {
     "data": {
      "text/plain": [
       "Text(0.5, 0, 'word rank')"
      ]
     },
     "execution_count": 33,
     "metadata": {},
     "output_type": "execute_result"
    },
    {
     "data": {
      "image/png": "[encoded data removed]",
      "text/plain": [
       "<Figure size 432x288 with 1 Axes>"
      ]
     },
     "metadata": {
      "needs_background": "light"
     },
     "output_type": "display_data"
    }
   ],
   "source": [
    "sorted_word_counts=sorted(list(word_counter.values()),reverse=True)\n",
    "plt.loglog(sorted_word_counts)#plt.semilog x or semilog y\n",
    "plt.ylabel('freq')\n",
    "plt.xlabel('word rank')\n"
   ]
  },
  {
   "cell_type": "code",
   "execution_count": 34,
   "metadata": {},
   "outputs": [
    {
     "data": {
      "text/plain": [
       "(array([3.897e+04, 3.610e+02, 1.170e+02, 4.300e+01, 4.000e+01, 1.500e+01,\n",
       "        9.000e+00, 8.000e+00, 5.000e+00, 4.000e+00, 6.000e+00, 2.000e+00,\n",
       "        2.000e+00, 1.000e+00, 0.000e+00, 0.000e+00, 0.000e+00, 0.000e+00,\n",
       "        0.000e+00, 1.000e+00, 0.000e+00, 0.000e+00, 0.000e+00, 0.000e+00,\n",
       "        0.000e+00, 0.000e+00, 0.000e+00, 0.000e+00, 0.000e+00, 0.000e+00,\n",
       "        2.000e+00, 0.000e+00, 0.000e+00, 0.000e+00, 0.000e+00, 0.000e+00,\n",
       "        0.000e+00, 0.000e+00, 0.000e+00, 0.000e+00, 0.000e+00, 0.000e+00,\n",
       "        0.000e+00, 0.000e+00, 0.000e+00, 0.000e+00, 0.000e+00, 0.000e+00,\n",
       "        0.000e+00, 1.000e+00]),\n",
       " array([1.00000e+00, 1.91320e+02, 3.81640e+02, 5.71960e+02, 7.62280e+02,\n",
       "        9.52600e+02, 1.14292e+03, 1.33324e+03, 1.52356e+03, 1.71388e+03,\n",
       "        1.90420e+03, 2.09452e+03, 2.28484e+03, 2.47516e+03, 2.66548e+03,\n",
       "        2.85580e+03, 3.04612e+03, 3.23644e+03, 3.42676e+03, 3.61708e+03,\n",
       "        3.80740e+03, 3.99772e+03, 4.18804e+03, 4.37836e+03, 4.56868e+03,\n",
       "        4.75900e+03, 4.94932e+03, 5.13964e+03, 5.32996e+03, 5.52028e+03,\n",
       "        5.71060e+03, 5.90092e+03, 6.09124e+03, 6.28156e+03, 6.47188e+03,\n",
       "        6.66220e+03, 6.85252e+03, 7.04284e+03, 7.23316e+03, 7.42348e+03,\n",
       "        7.61380e+03, 7.80412e+03, 7.99444e+03, 8.18476e+03, 8.37508e+03,\n",
       "        8.56540e+03, 8.75572e+03, 8.94604e+03, 9.13636e+03, 9.32668e+03,\n",
       "        9.51700e+03]),\n",
       " <a list of 50 Patch objects>)"
      ]
     },
     "execution_count": 34,
     "metadata": {},
     "output_type": "execute_result"
    },
    {
     "data": {
      "image/png": "[encoded data removed]",
      "text/plain": [
       "<Figure size 432x288 with 1 Axes>"
      ]
     },
     "metadata": {
      "needs_background": "light"
     },
     "output_type": "display_data"
    }
   ],
   "source": [
    "plt.hist(sorted_word_counts,bins=50,log=True)"
   ]
  },
  {
   "cell_type": "code",
   "execution_count": 36,
   "metadata": {},
   "outputs": [
    {
     "name": "stdout",
     "output_type": "stream",
     "text": [
      "({'quest': 1, 'camelot': 1, 'warner': 1, 'bros': 1, 'first': 1, 'feature': 1, 'length': 1, 'fully': 1, 'animated': 1, 'attempt': 1, 'steal': 1, 'clout': 1, 'disney': 1, 'cartoon': 1, 'empire': 1, 'mouse': 1, 'reason': 1, 'worried': 1, 'recent': 1, 'challenger': 1, 'throne': 1, 'last': 1, 'fall': 1, 'promising': 1, 'flawed': 1, '20th': 1, 'century': 1, 'fox': 1, 'production': 1, 'anastasia': 1, 'hercules': 1, 'lively': 1, 'cast': 1, 'colorful': 1, 'palate': 1, 'beat': 1, 'hands': 1, 'came': 1, 'time': 1, 'crown': 1, '1997': 1, 'best': 1, 'piece': 1, 'animation': 1, 'year': 1, 'contest': 1, 'pretty': 1, 'much': 1, 'dead': 1, 'arrival': 1, 'even': 1, 'magic': 1, 'kingdom': 1, 'mediocre': 1, '--': 1, 'pocahontas': 1, 'keeping': 1, 'score': 1, 'nearly': 1, 'dull': 1, 'story': 1, 'revolves': 1, 'around': 1, 'adventures': 1, 'free': 1, 'spirited': 1, 'kayley': 1, 'voiced': 1, 'jessalyn': 1, 'gilsig': 1, 'early': 1, 'teen': 1, 'daughter': 1, 'belated': 1, 'knight': 1, 'king': 1, 'arthur': 1, 'round': 1, 'table': 1, 'dream': 1, 'follow': 1, 'father': 1, 'footsteps': 1, 'gets': 1, 'chance': 1, 'evil': 1, 'warlord': 1, 'ruber': 1, 'gary': 1, 'oldman': 1, 'ex': 1, 'member': 1, 'gone': 1, 'bad': 1, 'steals': 1, 'magical': 1, 'sword': 1, 'excalibur': 1, 'accidentally': 1, 'loses': 1, 'dangerous': 1, 'booby': 1, 'trapped': 1, 'forest': 1, 'help': 1, 'hunky': 1, 'blind': 1, 'timberland': 1, 'dweller': 1, 'garrett': 1, 'carey': 1, 'elwes': 1, 'two': 1, 'headed': 1, 'dragon': 1, 'eric': 1, 'idle': 1, 'rickles': 1, 'always': 1, 'arguing': 1, 'might': 1, 'able': 1, 'break': 1, 'medieval': 1, 'sexist': 1, 'mold': 1, 'prove': 1, 'worth': 1, 'fighter': 1, 'side': 1, 'missing': 1, 'pure': 1, 'showmanship': 1, 'essential': 1, 'element': 1, 'ever': 1, 'expected': 1, 'climb': 1, 'high': 1, 'ranks': 1, 'nothing': 1, 'differentiates': 1, 'something': 1, 'see': 1, 'given': 1, 'saturday': 1, 'morning': 1, 'subpar': 1, 'instantly': 1, 'forgettable': 1, 'songs': 1, 'poorly': 1, 'integrated': 1, 'computerized': 1, 'footage': 1, 'compare': 1, 'run': 1, 'angry': 1, 'ogre': 1, 'herc': 1, 'battle': 1, 'hydra': 1, 'rest': 1, 'case': 1, 'characters': 1, 'stink': 1, 'none': 1, 'remotely': 1, 'interesting': 1, 'film': 1, 'becomes': 1, 'race': 1, 'one': 1, 'bland': 1, 'others': 1, 'end': 1, 'tie': 1, 'win': 1, 'comedy': 1, 'shtick': 1, 'awfully': 1, 'cloying': 1, 'least': 1, 'shows': 1, 'signs': 1, 'pulse': 1, 'fans': 1, \"-'\": 1, '90s': 1, 'tgif': 1, 'television': 1, 'line': 1, 'thrilled': 1, 'find': 1, 'jaleel': 1, 'urkel': 1, 'white': 1, 'bronson': 1, 'balki': 1, 'pinchot': 1, 'sharing': 1, 'scenes': 1, 'nicely': 1, 'realized': 1, 'though': 1, 'loss': 1, 'recall': 1, 'enough': 1, 'specific': 1, 'actors': 1, 'providing': 1, 'voice': 1, 'talent': 1, 'enthusiastic': 1, 'paired': 1, 'singers': 1, 'sound': 1, 'thing': 1, 'like': 1, 'big': 1, 'musical': 1, 'moments': 1, 'jane': 1, 'seymour': 1, 'celine': 1, 'dion': 1, 'must': 1, 'strain': 1, 'mess': 1, 'good': 1, 'aside': 1, 'fact': 1, 'children': 1, 'probably': 1, 'bored': 1, 'watching': 1, 'adults': 1, 'grievous': 1, 'error': 1, 'complete': 1, 'lack': 1, 'personality': 1, 'learn': 1, 'goes': 1, 'long': 1, 'way': 1}, 'neg')\n"
     ]
    }
   ],
   "source": [
    "negative_features=[(build_bag_of_words_features_filtered(movie_reviews.words(fileids=[f])),'neg')for f in negative_fileids]\n",
    "print(negative_features[3])"
   ]
  },
  {
   "cell_type": "code",
   "execution_count": 38,
   "metadata": {},
   "outputs": [
    {
     "name": "stdout",
     "output_type": "stream",
     "text": [
      "({'jaws': 1, 'rare': 1, 'film': 1, 'grabs': 1, 'attention': 1, 'shows': 1, 'single': 1, 'image': 1, 'screen': 1, 'movie': 1, 'opens': 1, 'blackness': 1, 'distant': 1, 'alien': 1, 'like': 1, 'underwater': 1, 'sounds': 1, 'comes': 1, 'first': 1, 'ominous': 1, 'bars': 1, 'composer': 1, 'john': 1, 'williams': 1, 'infamous': 1, 'score': 1, 'dah': 1, 'dum': 1, 'director': 1, 'steven': 1, 'spielberg': 1, 'wastes': 1, 'time': 1, 'taking': 1, 'us': 1, 'water': 1, 'midnight': 1, 'swim': 1, 'beautiful': 1, 'girl': 1, 'turns': 1, 'deadly': 1, 'right': 1, 'away': 1, 'lets': 1, 'know': 1, 'vulnerable': 1, 'floating': 1, 'ocean': 1, 'attacked': 1, 'never': 1, 'relinquishes': 1, 'grip': 1, 'perhaps': 1, 'outstanding': 1, 'builds': 1, 'works': 1, 'theatrical': 1, 'production': 1, 'act': 1, 'second': 1, 'unlike': 1, 'many': 1, 'modern': 1, 'filmmakers': 1, 'great': 1, 'deal': 1, 'restraint': 1, 'refuses': 1, 'show': 1, 'shark': 1, 'middle': 1, 'merely': 1, 'suggests': 1, 'presence': 1, 'creepy': 1, 'subjective': 1, 'shots': 1, 'music': 1, 'building': 1, 'tension': 1, 'bit': 1, 'climax': 1, 'arrival': 1, 'truly': 1, 'terrifying': 1, 'let': 1, 'get': 1, 'bored': 1, 'imagery': 1, 'police': 1, 'chief': 1, 'martin': 1, 'brody': 1, 'roy': 1, 'scheider': 1, 'new': 1, 'york': 1, 'cop': 1, 'taken': 1, 'easy': 1, 'peaceful': 1, 'job': 1, 'running': 1, 'station': 1, 'amity': 1, 'island': 1, 'fictitious': 1, 'england': 1, 'resort': 1, 'town': 1, 'murder': 1, 'gun': 1, 'fired': 1, '25': 1, 'years': 1, 'shaken': 1, 'several': 1, 'vicious': 1, 'white': 1, 'attacks': 1, 'fourth': 1, 'july': 1, 'mayor': 1, 'larry': 1, 'vaughn': 1, 'murray': 1, 'hamilton': 1, 'want': 1, 'shut': 1, 'beaches': 1, 'reliant': 1, 'summer': 1, 'tourist': 1, 'money': 1, 'joined': 1, 'matt': 1, 'hooper': 1, 'richard': 1, 'dreyfuss': 1, 'young': 1, 'ambitious': 1, 'expert': 1, 'marine': 1, 'institute': 1, 'fascinated': 1, 'determined': 1, 'help': 1, 'stop': 1, '--': 1, 'knowledge': 1, 'exact': 1, 'workings': 1, 'perfect': 1, 'engine': 1, 'eating': 1, 'machine': 1, 'make': 1, 'much': 1, 'finally': 1, 'relents': 1, 'join': 1, 'crusty': 1, 'old': 1, 'killer': 1, 'named': 1, 'quint': 1, 'robert': 1, 'shaw': 1, 'decrepit': 1, 'boat': 1, 'orca': 1, 'search': 1, 'entire': 1, 'takes': 1, 'place': 1, 'three': 1, 'men': 1, 'hunt': 1, 'inevitably': 1, 'hunted': 1, 'thriller': 1, 'keen': 1, 'sense': 1, 'humor': 1, 'incredible': 1, 'pacing': 1, 'horror': 1, 'ten': 1, 'movies': 1, 'rolled': 1, 'one': 1, 'wonder': 1, 'took': 1, 'america': 1, 'storm': 1, '1975': 1, 'enough': 1, 'crown': 1, 'box': 1, 'office': 1, 'champ': 1, 'unceremoniously': 1, 'dethroned': 1, '1977': 1, 'star': 1, 'wars': 1, 'even': 1, 'today': 1, 'fascination': 1, 'par': 1, 'hitchcock': 1, 'psycho': 1, 'seems': 1, 'age': 1, 'although': 1, 'grand': 1, 'technology': 1, 'exists': 1, 'makes': 1, 'technical': 1, 'sequences': 1, 'including': 1, 'mechanical': 1, 'sharks': 1, 'obsolete': 1, 'none': 1, 'could': 1, 'improve': 1, 'would': 1, 'lead': 1, 'overkill': 1, 'limitations': 1, 'faced': 1, 'may': 1, 'actually': 1, 'produced': 1, 'better': 1, 'forced': 1, 'rely': 1, 'traditional': 1, 'cinematic': 1, 'elements': 1, 'characterization': 1, 'sharp': 1, 'editing': 1, 'creative': 1, 'photography': 1, 'instead': 1, 'simply': 1, 'dousing': 1, 'audience': 1, 'digital': 1, 'effects': 1, 'known': 1, 'actors': 1, 'made': 1, 'draw': 1, 'redford': 1, 'paul': 1, 'newman': 1, 'nevertheless': 1, 'guaranteed': 1, 'successful': 1, 'careers': 1, 'gave': 1, 'performance': 1, 'refused': 1, 'overshadowed': 1, 'hits': 1, 'notes': 1, 'sympathetic': 1, 'husband': 1, 'father': 1, 'caught': 1, 'political': 1, 'quagmire': 1, 'going': 1, 'warns': 1, 'previously': 1, 'seen': 1, 'american': 1, 'graffiti': 1, '1973': 1, 'apprenticeship': 1, 'duddy': 1, 'kravitz': 1, '1974': 1, 'gives': 1, 'surprisingly': 1, 'mature': 1, 'complex': 1, 'someone': 1, 'literally': 1, 'played': 1, 'kids': 1, 'teenagers': 1, 'however': 1, 'gnarled': 1, 'captain': 1, 'ahab': 1, 'sorely': 1, 'overlooked': 1, 'academy': 1, 'awards': 1, 'bordering': 1, 'parody': 1, 'plays': 1, 'grizzled': 1, 'loner': 1, 'whose': 1, 'machismo': 1, 'borders': 1, 'masochism': 1, 'slightly': 1, 'deranged': 1, 'almost': 1, 'caricature': 1, 'scene': 1, 'late': 1, 'deck': 1, 'comparing': 1, 'scars': 1, 'drawn': 1, 'telling': 1, 'story': 1, 'experiences': 1, 'aboard': 1, 'u': 1, 'indianapolis': 1, 'navy': 1, 'ship': 1, 'world': 1, 'war': 1, 'ii': 1, 'sunk': 1, 'japanese': 1, 'tale': 1, 'week': 1, '1': 1, '000': 1, 'swarms': 1, 'slowly': 1, 'devoured': 1, 'hair': 1, 'raising': 1, 'anything': 1, 'put': 1, 'delivers': 1, 'long': 1, 'take': 1, 'best': 1, 'acting': 1, 'course': 1, 'leave': 1, 'black': 1, 'eyes': 1, 'endless': 1, 'rows': 1, 'teeth': 1, 'insatiable': 1, 'urge': 1, 'eat': 1, 'basically': 1, 'epitome': 1, 'mankind': 1, 'fears': 1, 'unknown': 1, 'threatening': 1, 'nature': 1, 'nemesis': 1, 'real': 1, 'survived': 1, 'sinch': 1, 'dinosaurs': 1, 'whites': 1, 'exist': 1, 'large': 1, 'threat': 1, 'every': 1, 'feel': 1, 'queasy': 1, 'see': 1, 'look': 1, 'bunch': 1, 'writihing': 1, 'dangling': 1, 'completely': 1, 'unprotected': 1, 'legs': 1, 'ready': 1, 'chomped': 1, 'combination': 1, 'actual': 1, 'footage': 1, 'five': 1, 'different': 1, 'nicknamed': 1, 'bruce': 1, 'crew': 1, 'built': 1, 'shot': 1, 'angles': 1, 'forgotten': 1, 'sort': 1, 'precursor': 1, 'waterworld': 1, '1995': 1, 'soggy': 1, 'cost': 1, 'overruns': 1, 'universal': 1, 'studios': 1, 'worried': 1, 'bomb': 1, 'overcame': 1, 'obstacles': 1, 'delivered': 1, 'finest': 1, 'primal': 1, 'scare': 1, 'thrillers': 1, 'ever': 1, 'come': 1, 'hollywood': 1}, 'pos')\n"
     ]
    }
   ],
   "source": [
    "positive_features=[(build_bag_of_words_features_filtered(movie_reviews.words(fileids=[f])),'pos')for f in positive_fileids]\n",
    "print(positive_features[3])"
   ]
  },
  {
   "cell_type": "code",
   "execution_count": 40,
   "metadata": {},
   "outputs": [],
   "source": [
    "from nltk.classify import NaiveBayesClassifier as NBC"
   ]
  },
  {
   "cell_type": "code",
   "execution_count": 42,
   "metadata": {},
   "outputs": [],
   "source": [
    "sentiment_classifier=NBC.train(positive_features[:800]+negative_features[:800])"
   ]
  },
  {
   "cell_type": "code",
   "execution_count": 44,
   "metadata": {},
   "outputs": [
    {
     "data": {
      "text/plain": [
       "0.980625"
      ]
     },
     "execution_count": 44,
     "metadata": {},
     "output_type": "execute_result"
    }
   ],
   "source": [
    "nltk.classify.util.accuracy(sentiment_classifier,positive_features[:800]+negative_features[:800])"
   ]
  },
  {
   "cell_type": "code",
   "execution_count": 45,
   "metadata": {},
   "outputs": [
    {
     "data": {
      "text/plain": [
       "0.7175"
      ]
     },
     "execution_count": 45,
     "metadata": {},
     "output_type": "execute_result"
    }
   ],
   "source": [
    "nltk.classify.util.accuracy(sentiment_classifier,positive_features[800:]+negative_features[800:])"
   ]
  },
  {
   "cell_type": "code",
   "execution_count": 47,
   "metadata": {},
   "outputs": [
    {
     "name": "stdout",
     "output_type": "stream",
     "text": [
      "Most Informative Features\n",
      "             outstanding = 1                 pos : neg    =     13.9 : 1.0\n",
      "               insulting = 1                 neg : pos    =     13.7 : 1.0\n",
      "              vulnerable = 1                 pos : neg    =     13.0 : 1.0\n",
      "               ludicrous = 1                 neg : pos    =     12.6 : 1.0\n",
      "             uninvolving = 1                 neg : pos    =     12.3 : 1.0\n",
      "                  avoids = 1                 pos : neg    =     11.7 : 1.0\n",
      "              astounding = 1                 pos : neg    =     11.7 : 1.0\n",
      "             fascination = 1                 pos : neg    =     11.0 : 1.0\n",
      "                  seagal = 1                 neg : pos    =     10.3 : 1.0\n",
      "                    anna = 1                 pos : neg    =     10.3 : 1.0\n"
     ]
    }
   ],
   "source": [
    "sentiment_classifier.show_most_informative_features()"
   ]
  },
  {
   "cell_type": "code",
   "execution_count": null,
   "metadata": {},
   "outputs": [],
   "source": []
  }
 ],
 "metadata": {
  "kernelspec": {
   "display_name": "Python 3",
   "language": "python",
   "name": "python3"
  },
  "language_info": {
   "codemirror_mode": {
    "name": "ipython",
    "version": 3
   },
   "file_extension": ".py",
   "mimetype": "text/x-python",
   "name": "python",
   "nbconvert_exporter": "python",
   "pygments_lexer": "ipython3",
   "version": "3.7.1"
  }
 },
 "nbformat": 4,
 "nbformat_minor": 2
}
