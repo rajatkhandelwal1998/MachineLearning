{
 "cells": [
  {
   "cell_type": "code",
   "execution_count": 1,
   "metadata": {},
   "outputs": [],
   "source": [
    "from bs4 import BeautifulSoup\n",
    "import requests\n",
    "import pandas as pd\n",
    "from pandas import Series,DataFrame\n"
   ]
  },
  {
   "cell_type": "code",
   "execution_count": 2,
   "metadata": {},
   "outputs": [],
   "source": [
    "url='http://eciresults.nic.in/PartyWiseResultS20.htm?st=S20'"
   ]
  },
  {
   "cell_type": "code",
   "execution_count": 3,
   "metadata": {},
   "outputs": [],
   "source": [
    "result=requests.get(url)\n",
    "c=result.content\n",
    "soup=BeautifulSoup(c)"
   ]
  },
  {
   "cell_type": "code",
   "execution_count": 9,
   "metadata": {},
   "outputs": [],
   "source": [
    "summary=soup.find(\"div\",{'id':'div1','style':'border-style: none; table-layout: auto;'})\n",
    "tables=summary.find_all('table')"
   ]
  },
  {
   "cell_type": "code",
   "execution_count": 18,
   "metadata": {},
   "outputs": [
    {
     "name": "stdout",
     "output_type": "stream",
     "text": [
      "[' Rajasthan\\xa0', 'Result Status ']\n",
      "[' Status Known For 199 out of 200 Constituencies']\n",
      "['Bahujan Samaj Party']\n",
      "['6']\n",
      "['0']\n",
      "['6']\n",
      "['Bharatiya Janata Party']\n",
      "['73']\n",
      "['0']\n",
      "['73']\n",
      "['Communist Party of India  (Marxist)']\n",
      "['2']\n",
      "['0']\n",
      "['2']\n",
      "['Indian National Congress']\n",
      "['99']\n",
      "['0']\n",
      "['99']\n",
      "['Bhartiya Tribal Party']\n",
      "['2']\n",
      "['0']\n",
      "['2']\n",
      "['Rashtriya Lok Dal']\n",
      "['1']\n",
      "['0']\n",
      "['1']\n",
      "['Rashtriya Loktantrik Party']\n",
      "['3']\n",
      "['0']\n",
      "['3']\n",
      "['Independent']\n",
      "['13']\n",
      "['0']\n",
      "['13']\n",
      "['Total']\n",
      "['199']\n",
      "['0']\n",
      "['199']\n",
      "['Partywise Vote Share']\n",
      "[]\n"
     ]
    }
   ],
   "source": [
    "data=[]\n",
    "rows=tables[0].findAll('tr')#tr=table in rows\n",
    "for tr in rows:\n",
    "    cols=tr.findAll('td')\n",
    "    for td in cols:\n",
    "        text=td.findAll(text=True)\n",
    "        print(text)\n",
    "        data.append(text)\n"
   ]
  },
  {
   "cell_type": "code",
   "execution_count": 19,
   "metadata": {},
   "outputs": [
    {
     "name": "stdout",
     "output_type": "stream",
     "text": [
      "[[' Rajasthan\\xa0', 'Result Status '], [' Status Known For 199 out of 200 Constituencies'], ['Bahujan Samaj Party'], ['6'], ['0'], ['6'], ['Bharatiya Janata Party'], ['73'], ['0'], ['73'], ['Communist Party of India  (Marxist)'], ['2'], ['0'], ['2'], ['Indian National Congress'], ['99'], ['0'], ['99'], ['Bhartiya Tribal Party'], ['2'], ['0'], ['2'], ['Rashtriya Lok Dal'], ['1'], ['0'], ['1'], ['Rashtriya Loktantrik Party'], ['3'], ['0'], ['3'], ['Independent'], ['13'], ['0'], ['13'], ['Total'], ['199'], ['0'], ['199'], ['Partywise Vote Share'], []]\n"
     ]
    }
   ],
   "source": [
    "print(data)"
   ]
  },
  {
   "cell_type": "code",
   "execution_count": 20,
   "metadata": {},
   "outputs": [
    {
     "data": {
      "text/plain": [
       "['Partywise Vote Share']"
      ]
     },
     "execution_count": 20,
     "metadata": {},
     "output_type": "execute_result"
    }
   ],
   "source": [
    "data.pop(0)\n",
    "data.pop(0)\n",
    "data.pop()\n",
    "data.pop() "
   ]
  },
  {
   "cell_type": "code",
   "execution_count": 21,
   "metadata": {},
   "outputs": [
    {
     "name": "stdout",
     "output_type": "stream",
     "text": [
      "[['Bahujan Samaj Party'], ['6'], ['0'], ['6'], ['Bharatiya Janata Party'], ['73'], ['0'], ['73'], ['Communist Party of India  (Marxist)'], ['2'], ['0'], ['2'], ['Indian National Congress'], ['99'], ['0'], ['99'], ['Bhartiya Tribal Party'], ['2'], ['0'], ['2'], ['Rashtriya Lok Dal'], ['1'], ['0'], ['1'], ['Rashtriya Loktantrik Party'], ['3'], ['0'], ['3'], ['Independent'], ['13'], ['0'], ['13'], ['Total'], ['199'], ['0'], ['199']]\n"
     ]
    }
   ],
   "source": [
    "print(data)"
   ]
  },
  {
   "cell_type": "code",
   "execution_count": 26,
   "metadata": {},
   "outputs": [
    {
     "data": {
      "text/plain": [
       "['Bahujan Samaj Party',\n",
       " '6',\n",
       " '0',\n",
       " '6',\n",
       " 'Bharatiya Janata Party',\n",
       " '73',\n",
       " '0',\n",
       " '73',\n",
       " 'Communist Party of India  (Marxist)',\n",
       " '2',\n",
       " '0',\n",
       " '2',\n",
       " 'Indian National Congress',\n",
       " '99',\n",
       " '0',\n",
       " '99',\n",
       " 'Bhartiya Tribal Party',\n",
       " '2',\n",
       " '0',\n",
       " '2',\n",
       " 'Rashtriya Lok Dal',\n",
       " '1',\n",
       " '0',\n",
       " '1',\n",
       " 'Rashtriya Loktantrik Party',\n",
       " '3',\n",
       " '0',\n",
       " '3',\n",
       " 'Independent',\n",
       " '13',\n",
       " '0',\n",
       " '13',\n",
       " 'Total',\n",
       " '199',\n",
       " '0',\n",
       " '199']"
      ]
     },
     "execution_count": 26,
     "metadata": {},
     "output_type": "execute_result"
    }
   ],
   "source": [
    "d=[''.join(i) for i in data]\n",
    "d"
   ]
  },
  {
   "cell_type": "code",
   "execution_count": 27,
   "metadata": {},
   "outputs": [],
   "source": [
    "data=d.copy()"
   ]
  },
  {
   "cell_type": "code",
   "execution_count": 32,
   "metadata": {},
   "outputs": [],
   "source": [
    "PartyName=Series(data[0::4])\n",
    "won=Series(data[1::4])\n",
    "Leading=Series(data[2::4])\n",
    "Total=Series(data[3::4])"
   ]
  },
  {
   "cell_type": "code",
   "execution_count": 33,
   "metadata": {},
   "outputs": [
    {
     "name": "stdout",
     "output_type": "stream",
     "text": [
      "0                    Bahujan Samaj Party\n",
      "1                 Bharatiya Janata Party\n",
      "2    Communist Party of India  (Marxist)\n",
      "3               Indian National Congress\n",
      "4                  Bhartiya Tribal Party\n",
      "5                      Rashtriya Lok Dal\n",
      "6             Rashtriya Loktantrik Party\n",
      "7                            Independent\n",
      "8                                  Total\n",
      "dtype: object\n"
     ]
    }
   ],
   "source": [
    "print(PartyName)"
   ]
  },
  {
   "cell_type": "code",
   "execution_count": 34,
   "metadata": {},
   "outputs": [
    {
     "data": {
      "text/html": [
       "<div>\n",
       "<style scoped>\n",
       "    .dataframe tbody tr th:only-of-type {\n",
       "        vertical-align: middle;\n",
       "    }\n",
       "\n",
       "    .dataframe tbody tr th {\n",
       "        vertical-align: top;\n",
       "    }\n",
       "\n",
       "    .dataframe thead th {\n",
       "        text-align: right;\n",
       "    }\n",
       "</style>\n",
       "<table border=\"1\" class=\"dataframe\">\n",
       "  <thead>\n",
       "    <tr style=\"text-align: right;\">\n",
       "      <th></th>\n",
       "      <th>Party</th>\n",
       "      <th>Won</th>\n",
       "      <th>Leading</th>\n",
       "      <th>Total</th>\n",
       "    </tr>\n",
       "  </thead>\n",
       "  <tbody>\n",
       "    <tr>\n",
       "      <th>0</th>\n",
       "      <td>Bahujan Samaj Party</td>\n",
       "      <td>6</td>\n",
       "      <td>0</td>\n",
       "      <td>6</td>\n",
       "    </tr>\n",
       "    <tr>\n",
       "      <th>1</th>\n",
       "      <td>Bharatiya Janata Party</td>\n",
       "      <td>73</td>\n",
       "      <td>0</td>\n",
       "      <td>73</td>\n",
       "    </tr>\n",
       "    <tr>\n",
       "      <th>2</th>\n",
       "      <td>Communist Party of India  (Marxist)</td>\n",
       "      <td>2</td>\n",
       "      <td>0</td>\n",
       "      <td>2</td>\n",
       "    </tr>\n",
       "    <tr>\n",
       "      <th>3</th>\n",
       "      <td>Indian National Congress</td>\n",
       "      <td>99</td>\n",
       "      <td>0</td>\n",
       "      <td>99</td>\n",
       "    </tr>\n",
       "    <tr>\n",
       "      <th>4</th>\n",
       "      <td>Bhartiya Tribal Party</td>\n",
       "      <td>2</td>\n",
       "      <td>0</td>\n",
       "      <td>2</td>\n",
       "    </tr>\n",
       "    <tr>\n",
       "      <th>5</th>\n",
       "      <td>Rashtriya Lok Dal</td>\n",
       "      <td>1</td>\n",
       "      <td>0</td>\n",
       "      <td>1</td>\n",
       "    </tr>\n",
       "    <tr>\n",
       "      <th>6</th>\n",
       "      <td>Rashtriya Loktantrik Party</td>\n",
       "      <td>3</td>\n",
       "      <td>0</td>\n",
       "      <td>3</td>\n",
       "    </tr>\n",
       "    <tr>\n",
       "      <th>7</th>\n",
       "      <td>Independent</td>\n",
       "      <td>13</td>\n",
       "      <td>0</td>\n",
       "      <td>13</td>\n",
       "    </tr>\n",
       "    <tr>\n",
       "      <th>8</th>\n",
       "      <td>Total</td>\n",
       "      <td>199</td>\n",
       "      <td>0</td>\n",
       "      <td>199</td>\n",
       "    </tr>\n",
       "  </tbody>\n",
       "</table>\n",
       "</div>"
      ],
      "text/plain": [
       "                                 Party  Won Leading Total\n",
       "0                  Bahujan Samaj Party    6       0     6\n",
       "1               Bharatiya Janata Party   73       0    73\n",
       "2  Communist Party of India  (Marxist)    2       0     2\n",
       "3             Indian National Congress   99       0    99\n",
       "4                Bhartiya Tribal Party    2       0     2\n",
       "5                    Rashtriya Lok Dal    1       0     1\n",
       "6           Rashtriya Loktantrik Party    3       0     3\n",
       "7                          Independent   13       0    13\n",
       "8                                Total  199       0   199"
      ]
     },
     "execution_count": 34,
     "metadata": {},
     "output_type": "execute_result"
    }
   ],
   "source": [
    "legislative_df=pd.concat([PartyName,won,Leading,Total],axis=1)\n",
    "legislative_df.columns=['Party','Won','Leading','Total']\n",
    "legislative_df"
   ]
  },
  {
   "cell_type": "code",
   "execution_count": 35,
   "metadata": {},
   "outputs": [],
   "source": [
    "from matplotlib import pyplot as plt"
   ]
  },
  {
   "cell_type": "code",
   "execution_count": 37,
   "metadata": {},
   "outputs": [
    {
     "data": {
      "text/plain": [
       "[6, 73, 2, 99, 2, 1, 3, 13, 199]"
      ]
     },
     "execution_count": 37,
     "metadata": {},
     "output_type": "execute_result"
    }
   ],
   "source": [
    "t=[int(i) for i in (data[3::4])]\n",
    "t"
   ]
  },
  {
   "cell_type": "code",
   "execution_count": 42,
   "metadata": {},
   "outputs": [
    {
     "data": {
      "image/png": "[encoded data removed]",
      "text/plain": [
       "<Figure size 576x504 with 1 Axes>"
      ]
     },
     "metadata": {},
     "output_type": "display_data"
    }
   ],
   "source": [
    "plt.figure(figsize=(8,7))\n",
    "plt.pie(t,labels=PartyName,autopct='%0.2f%%',shadow=True,startangle=0)\n",
    "plt.show()"
   ]
  },
  {
   "cell_type": "code",
   "execution_count": null,
   "metadata": {},
   "outputs": [],
   "source": []
  }
 ],
 "metadata": {
  "kernelspec": {
   "display_name": "Python 3",
   "language": "python",
   "name": "python3"
  },
  "language_info": {
   "codemirror_mode": {
    "name": "ipython",
    "version": 3
   },
   "file_extension": ".py",
   "mimetype": "text/x-python",
   "name": "python",
   "nbconvert_exporter": "python",
   "pygments_lexer": "ipython3",
   "version": "3.7.1"
  }
 },
 "nbformat": 4,
 "nbformat_minor": 2
}
