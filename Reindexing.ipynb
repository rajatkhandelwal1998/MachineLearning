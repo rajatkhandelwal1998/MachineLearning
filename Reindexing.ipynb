{
 "cells": [
  {
   "cell_type": "code",
   "execution_count": 3,
   "metadata": {},
   "outputs": [],
   "source": [
    "import numpy as np\n",
    "import pandas  as pd\n",
    "from pandas import Series,DataFrame\n",
    "from numpy.random import randn"
   ]
  },
  {
   "cell_type": "code",
   "execution_count": 4,
   "metadata": {},
   "outputs": [
    {
     "data": {
      "text/plain": [
       "A    1\n",
       "B    2\n",
       "C    3\n",
       "D    4\n",
       "dtype: int64"
      ]
     },
     "execution_count": 4,
     "metadata": {},
     "output_type": "execute_result"
    }
   ],
   "source": [
    "ser1=Series([1,2,3,4],index=['A','B','C','D'])\n",
    "ser1"
   ]
  },
  {
   "cell_type": "code",
   "execution_count": 5,
   "metadata": {},
   "outputs": [
    {
     "data": {
      "text/plain": [
       "A    1.0\n",
       "B    2.0\n",
       "C    3.0\n",
       "D    4.0\n",
       "E    NaN\n",
       "F    NaN\n",
       "dtype: float64"
      ]
     },
     "execution_count": 5,
     "metadata": {},
     "output_type": "execute_result"
    }
   ],
   "source": [
    "ser2=ser1.reindex(['A','B','C','D','E','F'])\n",
    "ser2"
   ]
  },
  {
   "cell_type": "code",
   "execution_count": 6,
   "metadata": {},
   "outputs": [
    {
     "data": {
      "text/plain": [
       "A    1.0\n",
       "B    2.0\n",
       "C    3.0\n",
       "D    4.0\n",
       "E    NaN\n",
       "F    NaN\n",
       "G    0.0\n",
       "H    0.0\n",
       "I    0.0\n",
       "dtype: float64"
      ]
     },
     "execution_count": 6,
     "metadata": {},
     "output_type": "execute_result"
    }
   ],
   "source": [
    "ser3=ser2.reindex(['A','B','C','D','E','F','G','H','I'],fill_value=0)\n",
    "ser3"
   ]
  },
  {
   "cell_type": "code",
   "execution_count": 7,
   "metadata": {},
   "outputs": [
    {
     "data": {
      "text/plain": [
       "0     india\n",
       "5     nepal\n",
       "10    china\n",
       "dtype: object"
      ]
     },
     "execution_count": 7,
     "metadata": {},
     "output_type": "execute_result"
    }
   ],
   "source": [
    "ser4=Series(['india','nepal','china'],index=[0,5,10])\n",
    "ser4"
   ]
  },
  {
   "cell_type": "code",
   "execution_count": 9,
   "metadata": {},
   "outputs": [],
   "source": [
    "ranger=range(15)"
   ]
  },
  {
   "cell_type": "code",
   "execution_count": 10,
   "metadata": {},
   "outputs": [
    {
     "data": {
      "text/plain": [
       "0     india\n",
       "1     india\n",
       "2     india\n",
       "3     india\n",
       "4     india\n",
       "5     nepal\n",
       "6     nepal\n",
       "7     nepal\n",
       "8     nepal\n",
       "9     nepal\n",
       "10    china\n",
       "11    china\n",
       "12    china\n",
       "13    china\n",
       "14    china\n",
       "dtype: object"
      ]
     },
     "execution_count": 10,
     "metadata": {},
     "output_type": "execute_result"
    }
   ],
   "source": [
    "ser4.reindex(ranger,method='ffill')"
   ]
  },
  {
   "cell_type": "code",
   "execution_count": 11,
   "metadata": {},
   "outputs": [
    {
     "data": {
      "text/html": [
       "<div>\n",
       "<style scoped>\n",
       "    .dataframe tbody tr th:only-of-type {\n",
       "        vertical-align: middle;\n",
       "    }\n",
       "\n",
       "    .dataframe tbody tr th {\n",
       "        vertical-align: top;\n",
       "    }\n",
       "\n",
       "    .dataframe thead th {\n",
       "        text-align: right;\n",
       "    }\n",
       "</style>\n",
       "<table border=\"1\" class=\"dataframe\">\n",
       "  <thead>\n",
       "    <tr style=\"text-align: right;\">\n",
       "      <th></th>\n",
       "      <th>C1</th>\n",
       "      <th>C2</th>\n",
       "      <th>C3</th>\n",
       "      <th>C4</th>\n",
       "      <th>C5</th>\n",
       "    </tr>\n",
       "  </thead>\n",
       "  <tbody>\n",
       "    <tr>\n",
       "      <th>A</th>\n",
       "      <td>-0.065473</td>\n",
       "      <td>-0.786390</td>\n",
       "      <td>-0.301660</td>\n",
       "      <td>0.256903</td>\n",
       "      <td>0.248414</td>\n",
       "    </tr>\n",
       "    <tr>\n",
       "      <th>B</th>\n",
       "      <td>-0.217046</td>\n",
       "      <td>-0.280885</td>\n",
       "      <td>-1.003257</td>\n",
       "      <td>-1.014044</td>\n",
       "      <td>-0.908798</td>\n",
       "    </tr>\n",
       "    <tr>\n",
       "      <th>D</th>\n",
       "      <td>-0.664826</td>\n",
       "      <td>1.958711</td>\n",
       "      <td>-0.800747</td>\n",
       "      <td>-1.074384</td>\n",
       "      <td>-1.177118</td>\n",
       "    </tr>\n",
       "    <tr>\n",
       "      <th>E</th>\n",
       "      <td>-0.324995</td>\n",
       "      <td>-0.127357</td>\n",
       "      <td>0.487596</td>\n",
       "      <td>0.120980</td>\n",
       "      <td>0.414817</td>\n",
       "    </tr>\n",
       "    <tr>\n",
       "      <th>F</th>\n",
       "      <td>-1.146076</td>\n",
       "      <td>1.470141</td>\n",
       "      <td>0.552671</td>\n",
       "      <td>1.473010</td>\n",
       "      <td>-0.485886</td>\n",
       "    </tr>\n",
       "  </tbody>\n",
       "</table>\n",
       "</div>"
      ],
      "text/plain": [
       "         C1        C2        C3        C4        C5\n",
       "A -0.065473 -0.786390 -0.301660  0.256903  0.248414\n",
       "B -0.217046 -0.280885 -1.003257 -1.014044 -0.908798\n",
       "D -0.664826  1.958711 -0.800747 -1.074384 -1.177118\n",
       "E -0.324995 -0.127357  0.487596  0.120980  0.414817\n",
       "F -1.146076  1.470141  0.552671  1.473010 -0.485886"
      ]
     },
     "execution_count": 11,
     "metadata": {},
     "output_type": "execute_result"
    }
   ],
   "source": [
    "df=DataFrame(randn(25).reshape((5,5)),index=['A','B','D','E','F'],columns=['C1','C2','C3','C4','C5'])\n",
    "df"
   ]
  },
  {
   "cell_type": "code",
   "execution_count": 13,
   "metadata": {},
   "outputs": [
    {
     "data": {
      "text/html": [
       "<div>\n",
       "<style scoped>\n",
       "    .dataframe tbody tr th:only-of-type {\n",
       "        vertical-align: middle;\n",
       "    }\n",
       "\n",
       "    .dataframe tbody tr th {\n",
       "        vertical-align: top;\n",
       "    }\n",
       "\n",
       "    .dataframe thead th {\n",
       "        text-align: right;\n",
       "    }\n",
       "</style>\n",
       "<table border=\"1\" class=\"dataframe\">\n",
       "  <thead>\n",
       "    <tr style=\"text-align: right;\">\n",
       "      <th></th>\n",
       "      <th>C1</th>\n",
       "      <th>C2</th>\n",
       "      <th>C3</th>\n",
       "      <th>C4</th>\n",
       "      <th>C5</th>\n",
       "    </tr>\n",
       "  </thead>\n",
       "  <tbody>\n",
       "    <tr>\n",
       "      <th>A</th>\n",
       "      <td>-0.065473</td>\n",
       "      <td>-0.786390</td>\n",
       "      <td>-0.301660</td>\n",
       "      <td>0.256903</td>\n",
       "      <td>0.248414</td>\n",
       "    </tr>\n",
       "    <tr>\n",
       "      <th>B</th>\n",
       "      <td>-0.217046</td>\n",
       "      <td>-0.280885</td>\n",
       "      <td>-1.003257</td>\n",
       "      <td>-1.014044</td>\n",
       "      <td>-0.908798</td>\n",
       "    </tr>\n",
       "    <tr>\n",
       "      <th>C</th>\n",
       "      <td>NaN</td>\n",
       "      <td>NaN</td>\n",
       "      <td>NaN</td>\n",
       "      <td>NaN</td>\n",
       "      <td>NaN</td>\n",
       "    </tr>\n",
       "    <tr>\n",
       "      <th>D</th>\n",
       "      <td>-0.664826</td>\n",
       "      <td>1.958711</td>\n",
       "      <td>-0.800747</td>\n",
       "      <td>-1.074384</td>\n",
       "      <td>-1.177118</td>\n",
       "    </tr>\n",
       "    <tr>\n",
       "      <th>E</th>\n",
       "      <td>-0.324995</td>\n",
       "      <td>-0.127357</td>\n",
       "      <td>0.487596</td>\n",
       "      <td>0.120980</td>\n",
       "      <td>0.414817</td>\n",
       "    </tr>\n",
       "    <tr>\n",
       "      <th>F</th>\n",
       "      <td>-1.146076</td>\n",
       "      <td>1.470141</td>\n",
       "      <td>0.552671</td>\n",
       "      <td>1.473010</td>\n",
       "      <td>-0.485886</td>\n",
       "    </tr>\n",
       "  </tbody>\n",
       "</table>\n",
       "</div>"
      ],
      "text/plain": [
       "         C1        C2        C3        C4        C5\n",
       "A -0.065473 -0.786390 -0.301660  0.256903  0.248414\n",
       "B -0.217046 -0.280885 -1.003257 -1.014044 -0.908798\n",
       "C       NaN       NaN       NaN       NaN       NaN\n",
       "D -0.664826  1.958711 -0.800747 -1.074384 -1.177118\n",
       "E -0.324995 -0.127357  0.487596  0.120980  0.414817\n",
       "F -1.146076  1.470141  0.552671  1.473010 -0.485886"
      ]
     },
     "execution_count": 13,
     "metadata": {},
     "output_type": "execute_result"
    }
   ],
   "source": [
    "df1=df.reindex(['A','B','C','D','E','F'])\n",
    "df1"
   ]
  },
  {
   "cell_type": "code",
   "execution_count": 14,
   "metadata": {},
   "outputs": [],
   "source": [
    "new_col=['C1','C2','C3','C4','C5','C6']"
   ]
  },
  {
   "cell_type": "code",
   "execution_count": 17,
   "metadata": {},
   "outputs": [
    {
     "data": {
      "text/html": [
       "<div>\n",
       "<style scoped>\n",
       "    .dataframe tbody tr th:only-of-type {\n",
       "        vertical-align: middle;\n",
       "    }\n",
       "\n",
       "    .dataframe tbody tr th {\n",
       "        vertical-align: top;\n",
       "    }\n",
       "\n",
       "    .dataframe thead th {\n",
       "        text-align: right;\n",
       "    }\n",
       "</style>\n",
       "<table border=\"1\" class=\"dataframe\">\n",
       "  <thead>\n",
       "    <tr style=\"text-align: right;\">\n",
       "      <th></th>\n",
       "      <th>C1</th>\n",
       "      <th>C2</th>\n",
       "      <th>C3</th>\n",
       "      <th>C4</th>\n",
       "      <th>C5</th>\n",
       "      <th>C6</th>\n",
       "    </tr>\n",
       "  </thead>\n",
       "  <tbody>\n",
       "    <tr>\n",
       "      <th>A</th>\n",
       "      <td>-0.065473</td>\n",
       "      <td>-0.786390</td>\n",
       "      <td>-0.301660</td>\n",
       "      <td>0.256903</td>\n",
       "      <td>0.248414</td>\n",
       "      <td>NaN</td>\n",
       "    </tr>\n",
       "    <tr>\n",
       "      <th>B</th>\n",
       "      <td>-0.217046</td>\n",
       "      <td>-0.280885</td>\n",
       "      <td>-1.003257</td>\n",
       "      <td>-1.014044</td>\n",
       "      <td>-0.908798</td>\n",
       "      <td>NaN</td>\n",
       "    </tr>\n",
       "    <tr>\n",
       "      <th>C</th>\n",
       "      <td>NaN</td>\n",
       "      <td>NaN</td>\n",
       "      <td>NaN</td>\n",
       "      <td>NaN</td>\n",
       "      <td>NaN</td>\n",
       "      <td>NaN</td>\n",
       "    </tr>\n",
       "    <tr>\n",
       "      <th>D</th>\n",
       "      <td>-0.664826</td>\n",
       "      <td>1.958711</td>\n",
       "      <td>-0.800747</td>\n",
       "      <td>-1.074384</td>\n",
       "      <td>-1.177118</td>\n",
       "      <td>NaN</td>\n",
       "    </tr>\n",
       "    <tr>\n",
       "      <th>E</th>\n",
       "      <td>-0.324995</td>\n",
       "      <td>-0.127357</td>\n",
       "      <td>0.487596</td>\n",
       "      <td>0.120980</td>\n",
       "      <td>0.414817</td>\n",
       "      <td>NaN</td>\n",
       "    </tr>\n",
       "    <tr>\n",
       "      <th>F</th>\n",
       "      <td>-1.146076</td>\n",
       "      <td>1.470141</td>\n",
       "      <td>0.552671</td>\n",
       "      <td>1.473010</td>\n",
       "      <td>-0.485886</td>\n",
       "      <td>NaN</td>\n",
       "    </tr>\n",
       "  </tbody>\n",
       "</table>\n",
       "</div>"
      ],
      "text/plain": [
       "         C1        C2        C3        C4        C5  C6\n",
       "A -0.065473 -0.786390 -0.301660  0.256903  0.248414 NaN\n",
       "B -0.217046 -0.280885 -1.003257 -1.014044 -0.908798 NaN\n",
       "C       NaN       NaN       NaN       NaN       NaN NaN\n",
       "D -0.664826  1.958711 -0.800747 -1.074384 -1.177118 NaN\n",
       "E -0.324995 -0.127357  0.487596  0.120980  0.414817 NaN\n",
       "F -1.146076  1.470141  0.552671  1.473010 -0.485886 NaN"
      ]
     },
     "execution_count": 17,
     "metadata": {},
     "output_type": "execute_result"
    }
   ],
   "source": [
    "df1.reindex(columns=new_col)"
   ]
  },
  {
   "cell_type": "code",
   "execution_count": 18,
   "metadata": {},
   "outputs": [
    {
     "data": {
      "text/html": [
       "<div>\n",
       "<style scoped>\n",
       "    .dataframe tbody tr th:only-of-type {\n",
       "        vertical-align: middle;\n",
       "    }\n",
       "\n",
       "    .dataframe tbody tr th {\n",
       "        vertical-align: top;\n",
       "    }\n",
       "\n",
       "    .dataframe thead th {\n",
       "        text-align: right;\n",
       "    }\n",
       "</style>\n",
       "<table border=\"1\" class=\"dataframe\">\n",
       "  <thead>\n",
       "    <tr style=\"text-align: right;\">\n",
       "      <th></th>\n",
       "      <th>C1</th>\n",
       "      <th>C2</th>\n",
       "      <th>C3</th>\n",
       "      <th>C4</th>\n",
       "      <th>C5</th>\n",
       "    </tr>\n",
       "  </thead>\n",
       "  <tbody>\n",
       "    <tr>\n",
       "      <th>A</th>\n",
       "      <td>-0.065473</td>\n",
       "      <td>-0.786390</td>\n",
       "      <td>-0.301660</td>\n",
       "      <td>0.256903</td>\n",
       "      <td>0.248414</td>\n",
       "    </tr>\n",
       "    <tr>\n",
       "      <th>B</th>\n",
       "      <td>-0.217046</td>\n",
       "      <td>-0.280885</td>\n",
       "      <td>-1.003257</td>\n",
       "      <td>-1.014044</td>\n",
       "      <td>-0.908798</td>\n",
       "    </tr>\n",
       "    <tr>\n",
       "      <th>C</th>\n",
       "      <td>NaN</td>\n",
       "      <td>NaN</td>\n",
       "      <td>NaN</td>\n",
       "      <td>NaN</td>\n",
       "      <td>NaN</td>\n",
       "    </tr>\n",
       "    <tr>\n",
       "      <th>D</th>\n",
       "      <td>-0.664826</td>\n",
       "      <td>1.958711</td>\n",
       "      <td>-0.800747</td>\n",
       "      <td>-1.074384</td>\n",
       "      <td>-1.177118</td>\n",
       "    </tr>\n",
       "    <tr>\n",
       "      <th>E</th>\n",
       "      <td>-0.324995</td>\n",
       "      <td>-0.127357</td>\n",
       "      <td>0.487596</td>\n",
       "      <td>0.120980</td>\n",
       "      <td>0.414817</td>\n",
       "    </tr>\n",
       "    <tr>\n",
       "      <th>F</th>\n",
       "      <td>-1.146076</td>\n",
       "      <td>1.470141</td>\n",
       "      <td>0.552671</td>\n",
       "      <td>1.473010</td>\n",
       "      <td>-0.485886</td>\n",
       "    </tr>\n",
       "  </tbody>\n",
       "</table>\n",
       "</div>"
      ],
      "text/plain": [
       "         C1        C2        C3        C4        C5\n",
       "A -0.065473 -0.786390 -0.301660  0.256903  0.248414\n",
       "B -0.217046 -0.280885 -1.003257 -1.014044 -0.908798\n",
       "C       NaN       NaN       NaN       NaN       NaN\n",
       "D -0.664826  1.958711 -0.800747 -1.074384 -1.177118\n",
       "E -0.324995 -0.127357  0.487596  0.120980  0.414817\n",
       "F -1.146076  1.470141  0.552671  1.473010 -0.485886"
      ]
     },
     "execution_count": 18,
     "metadata": {},
     "output_type": "execute_result"
    }
   ],
   "source": [
    "df1"
   ]
  },
  {
   "cell_type": "code",
   "execution_count": 21,
   "metadata": {},
   "outputs": [
    {
     "data": {
      "text/html": [
       "<div>\n",
       "<style scoped>\n",
       "    .dataframe tbody tr th:only-of-type {\n",
       "        vertical-align: middle;\n",
       "    }\n",
       "\n",
       "    .dataframe tbody tr th {\n",
       "        vertical-align: top;\n",
       "    }\n",
       "\n",
       "    .dataframe thead th {\n",
       "        text-align: right;\n",
       "    }\n",
       "</style>\n",
       "<table border=\"1\" class=\"dataframe\">\n",
       "  <thead>\n",
       "    <tr style=\"text-align: right;\">\n",
       "      <th></th>\n",
       "      <th>C1</th>\n",
       "      <th>C2</th>\n",
       "      <th>C3</th>\n",
       "      <th>C4</th>\n",
       "      <th>C5</th>\n",
       "      <th>C6</th>\n",
       "    </tr>\n",
       "  </thead>\n",
       "  <tbody>\n",
       "    <tr>\n",
       "      <th>A</th>\n",
       "      <td>-0.065473</td>\n",
       "      <td>-0.786390</td>\n",
       "      <td>-0.301660</td>\n",
       "      <td>0.256903</td>\n",
       "      <td>0.248414</td>\n",
       "      <td>NaN</td>\n",
       "    </tr>\n",
       "    <tr>\n",
       "      <th>B</th>\n",
       "      <td>-0.217046</td>\n",
       "      <td>-0.280885</td>\n",
       "      <td>-1.003257</td>\n",
       "      <td>-1.014044</td>\n",
       "      <td>-0.908798</td>\n",
       "      <td>NaN</td>\n",
       "    </tr>\n",
       "    <tr>\n",
       "      <th>C</th>\n",
       "      <td>NaN</td>\n",
       "      <td>NaN</td>\n",
       "      <td>NaN</td>\n",
       "      <td>NaN</td>\n",
       "      <td>NaN</td>\n",
       "      <td>NaN</td>\n",
       "    </tr>\n",
       "    <tr>\n",
       "      <th>D</th>\n",
       "      <td>-0.664826</td>\n",
       "      <td>1.958711</td>\n",
       "      <td>-0.800747</td>\n",
       "      <td>-1.074384</td>\n",
       "      <td>-1.177118</td>\n",
       "      <td>NaN</td>\n",
       "    </tr>\n",
       "    <tr>\n",
       "      <th>E</th>\n",
       "      <td>-0.324995</td>\n",
       "      <td>-0.127357</td>\n",
       "      <td>0.487596</td>\n",
       "      <td>0.120980</td>\n",
       "      <td>0.414817</td>\n",
       "      <td>NaN</td>\n",
       "    </tr>\n",
       "    <tr>\n",
       "      <th>F</th>\n",
       "      <td>-1.146076</td>\n",
       "      <td>1.470141</td>\n",
       "      <td>0.552671</td>\n",
       "      <td>1.473010</td>\n",
       "      <td>-0.485886</td>\n",
       "      <td>NaN</td>\n",
       "    </tr>\n",
       "  </tbody>\n",
       "</table>\n",
       "</div>"
      ],
      "text/plain": [
       "         C1        C2        C3        C4        C5  C6\n",
       "A -0.065473 -0.786390 -0.301660  0.256903  0.248414 NaN\n",
       "B -0.217046 -0.280885 -1.003257 -1.014044 -0.908798 NaN\n",
       "C       NaN       NaN       NaN       NaN       NaN NaN\n",
       "D -0.664826  1.958711 -0.800747 -1.074384 -1.177118 NaN\n",
       "E -0.324995 -0.127357  0.487596  0.120980  0.414817 NaN\n",
       "F -1.146076  1.470141  0.552671  1.473010 -0.485886 NaN"
      ]
     },
     "execution_count": 21,
     "metadata": {},
     "output_type": "execute_result"
    }
   ],
   "source": [
    "df.reindex(index=['A','B','C','D','E','F'],columns=new_col)"
   ]
  },
  {
   "cell_type": "code",
   "execution_count": 22,
   "metadata": {},
   "outputs": [
    {
     "data": {
      "text/html": [
       "<div>\n",
       "<style scoped>\n",
       "    .dataframe tbody tr th:only-of-type {\n",
       "        vertical-align: middle;\n",
       "    }\n",
       "\n",
       "    .dataframe tbody tr th {\n",
       "        vertical-align: top;\n",
       "    }\n",
       "\n",
       "    .dataframe thead th {\n",
       "        text-align: right;\n",
       "    }\n",
       "</style>\n",
       "<table border=\"1\" class=\"dataframe\">\n",
       "  <thead>\n",
       "    <tr style=\"text-align: right;\">\n",
       "      <th></th>\n",
       "      <th>C1</th>\n",
       "      <th>C2</th>\n",
       "      <th>C3</th>\n",
       "      <th>C4</th>\n",
       "      <th>C5</th>\n",
       "    </tr>\n",
       "  </thead>\n",
       "  <tbody>\n",
       "    <tr>\n",
       "      <th>A</th>\n",
       "      <td>-0.065473</td>\n",
       "      <td>-0.786390</td>\n",
       "      <td>-0.301660</td>\n",
       "      <td>0.256903</td>\n",
       "      <td>0.248414</td>\n",
       "    </tr>\n",
       "    <tr>\n",
       "      <th>B</th>\n",
       "      <td>-0.217046</td>\n",
       "      <td>-0.280885</td>\n",
       "      <td>-1.003257</td>\n",
       "      <td>-1.014044</td>\n",
       "      <td>-0.908798</td>\n",
       "    </tr>\n",
       "    <tr>\n",
       "      <th>D</th>\n",
       "      <td>-0.664826</td>\n",
       "      <td>1.958711</td>\n",
       "      <td>-0.800747</td>\n",
       "      <td>-1.074384</td>\n",
       "      <td>-1.177118</td>\n",
       "    </tr>\n",
       "    <tr>\n",
       "      <th>E</th>\n",
       "      <td>-0.324995</td>\n",
       "      <td>-0.127357</td>\n",
       "      <td>0.487596</td>\n",
       "      <td>0.120980</td>\n",
       "      <td>0.414817</td>\n",
       "    </tr>\n",
       "    <tr>\n",
       "      <th>F</th>\n",
       "      <td>-1.146076</td>\n",
       "      <td>1.470141</td>\n",
       "      <td>0.552671</td>\n",
       "      <td>1.473010</td>\n",
       "      <td>-0.485886</td>\n",
       "    </tr>\n",
       "  </tbody>\n",
       "</table>\n",
       "</div>"
      ],
      "text/plain": [
       "         C1        C2        C3        C4        C5\n",
       "A -0.065473 -0.786390 -0.301660  0.256903  0.248414\n",
       "B -0.217046 -0.280885 -1.003257 -1.014044 -0.908798\n",
       "D -0.664826  1.958711 -0.800747 -1.074384 -1.177118\n",
       "E -0.324995 -0.127357  0.487596  0.120980  0.414817\n",
       "F -1.146076  1.470141  0.552671  1.473010 -0.485886"
      ]
     },
     "execution_count": 22,
     "metadata": {},
     "output_type": "execute_result"
    }
   ],
   "source": [
    "df"
   ]
  },
  {
   "cell_type": "code",
   "execution_count": 24,
   "metadata": {},
   "outputs": [
    {
     "data": {
      "text/plain": [
       "-1.0032566421247766"
      ]
     },
     "execution_count": 24,
     "metadata": {},
     "output_type": "execute_result"
    }
   ],
   "source": [
    "#to axis particular value\n",
    "df['C3']['B']"
   ]
  },
  {
   "cell_type": "code",
   "execution_count": 27,
   "metadata": {},
   "outputs": [],
   "source": [
    "#to change value\n",
    "df['C3']['B']=6"
   ]
  },
  {
   "cell_type": "code",
   "execution_count": 28,
   "metadata": {},
   "outputs": [
    {
     "data": {
      "text/html": [
       "<div>\n",
       "<style scoped>\n",
       "    .dataframe tbody tr th:only-of-type {\n",
       "        vertical-align: middle;\n",
       "    }\n",
       "\n",
       "    .dataframe tbody tr th {\n",
       "        vertical-align: top;\n",
       "    }\n",
       "\n",
       "    .dataframe thead th {\n",
       "        text-align: right;\n",
       "    }\n",
       "</style>\n",
       "<table border=\"1\" class=\"dataframe\">\n",
       "  <thead>\n",
       "    <tr style=\"text-align: right;\">\n",
       "      <th></th>\n",
       "      <th>C1</th>\n",
       "      <th>C2</th>\n",
       "      <th>C3</th>\n",
       "      <th>C4</th>\n",
       "      <th>C5</th>\n",
       "    </tr>\n",
       "  </thead>\n",
       "  <tbody>\n",
       "    <tr>\n",
       "      <th>A</th>\n",
       "      <td>-0.065473</td>\n",
       "      <td>-0.786390</td>\n",
       "      <td>-0.301660</td>\n",
       "      <td>0.256903</td>\n",
       "      <td>0.248414</td>\n",
       "    </tr>\n",
       "    <tr>\n",
       "      <th>B</th>\n",
       "      <td>-0.217046</td>\n",
       "      <td>-0.280885</td>\n",
       "      <td>6.000000</td>\n",
       "      <td>-1.014044</td>\n",
       "      <td>-0.908798</td>\n",
       "    </tr>\n",
       "    <tr>\n",
       "      <th>D</th>\n",
       "      <td>-0.664826</td>\n",
       "      <td>1.958711</td>\n",
       "      <td>-0.800747</td>\n",
       "      <td>-1.074384</td>\n",
       "      <td>-1.177118</td>\n",
       "    </tr>\n",
       "    <tr>\n",
       "      <th>E</th>\n",
       "      <td>-0.324995</td>\n",
       "      <td>-0.127357</td>\n",
       "      <td>0.487596</td>\n",
       "      <td>0.120980</td>\n",
       "      <td>0.414817</td>\n",
       "    </tr>\n",
       "    <tr>\n",
       "      <th>F</th>\n",
       "      <td>-1.146076</td>\n",
       "      <td>1.470141</td>\n",
       "      <td>0.552671</td>\n",
       "      <td>1.473010</td>\n",
       "      <td>-0.485886</td>\n",
       "    </tr>\n",
       "  </tbody>\n",
       "</table>\n",
       "</div>"
      ],
      "text/plain": [
       "         C1        C2        C3        C4        C5\n",
       "A -0.065473 -0.786390 -0.301660  0.256903  0.248414\n",
       "B -0.217046 -0.280885  6.000000 -1.014044 -0.908798\n",
       "D -0.664826  1.958711 -0.800747 -1.074384 -1.177118\n",
       "E -0.324995 -0.127357  0.487596  0.120980  0.414817\n",
       "F -1.146076  1.470141  0.552671  1.473010 -0.485886"
      ]
     },
     "execution_count": 28,
     "metadata": {},
     "output_type": "execute_result"
    }
   ],
   "source": [
    "df"
   ]
  },
  {
   "cell_type": "code",
   "execution_count": 33,
   "metadata": {},
   "outputs": [],
   "source": [
    "df3=df.reindex(columns=new_col,fill_value=15)\n"
   ]
  },
  {
   "cell_type": "code",
   "execution_count": 34,
   "metadata": {},
   "outputs": [
    {
     "data": {
      "text/html": [
       "<div>\n",
       "<style scoped>\n",
       "    .dataframe tbody tr th:only-of-type {\n",
       "        vertical-align: middle;\n",
       "    }\n",
       "\n",
       "    .dataframe tbody tr th {\n",
       "        vertical-align: top;\n",
       "    }\n",
       "\n",
       "    .dataframe thead th {\n",
       "        text-align: right;\n",
       "    }\n",
       "</style>\n",
       "<table border=\"1\" class=\"dataframe\">\n",
       "  <thead>\n",
       "    <tr style=\"text-align: right;\">\n",
       "      <th></th>\n",
       "      <th>C1</th>\n",
       "      <th>C2</th>\n",
       "      <th>C3</th>\n",
       "      <th>C4</th>\n",
       "      <th>C5</th>\n",
       "      <th>C6</th>\n",
       "    </tr>\n",
       "  </thead>\n",
       "  <tbody>\n",
       "    <tr>\n",
       "      <th>A</th>\n",
       "      <td>-0.065473</td>\n",
       "      <td>-0.786390</td>\n",
       "      <td>-0.301660</td>\n",
       "      <td>0.256903</td>\n",
       "      <td>0.248414</td>\n",
       "      <td>15</td>\n",
       "    </tr>\n",
       "    <tr>\n",
       "      <th>B</th>\n",
       "      <td>-0.217046</td>\n",
       "      <td>-0.280885</td>\n",
       "      <td>6.000000</td>\n",
       "      <td>-1.014044</td>\n",
       "      <td>-0.908798</td>\n",
       "      <td>15</td>\n",
       "    </tr>\n",
       "    <tr>\n",
       "      <th>D</th>\n",
       "      <td>-0.664826</td>\n",
       "      <td>1.958711</td>\n",
       "      <td>-0.800747</td>\n",
       "      <td>-1.074384</td>\n",
       "      <td>-1.177118</td>\n",
       "      <td>15</td>\n",
       "    </tr>\n",
       "    <tr>\n",
       "      <th>E</th>\n",
       "      <td>-0.324995</td>\n",
       "      <td>-0.127357</td>\n",
       "      <td>0.487596</td>\n",
       "      <td>0.120980</td>\n",
       "      <td>0.414817</td>\n",
       "      <td>15</td>\n",
       "    </tr>\n",
       "    <tr>\n",
       "      <th>F</th>\n",
       "      <td>-1.146076</td>\n",
       "      <td>1.470141</td>\n",
       "      <td>0.552671</td>\n",
       "      <td>1.473010</td>\n",
       "      <td>-0.485886</td>\n",
       "      <td>15</td>\n",
       "    </tr>\n",
       "  </tbody>\n",
       "</table>\n",
       "</div>"
      ],
      "text/plain": [
       "         C1        C2        C3        C4        C5  C6\n",
       "A -0.065473 -0.786390 -0.301660  0.256903  0.248414  15\n",
       "B -0.217046 -0.280885  6.000000 -1.014044 -0.908798  15\n",
       "D -0.664826  1.958711 -0.800747 -1.074384 -1.177118  15\n",
       "E -0.324995 -0.127357  0.487596  0.120980  0.414817  15\n",
       "F -1.146076  1.470141  0.552671  1.473010 -0.485886  15"
      ]
     },
     "execution_count": 34,
     "metadata": {},
     "output_type": "execute_result"
    }
   ],
   "source": [
    "df3"
   ]
  },
  {
   "cell_type": "code",
   "execution_count": null,
   "metadata": {},
   "outputs": [],
   "source": []
  }
 ],
 "metadata": {
  "kernelspec": {
   "display_name": "Python 3",
   "language": "python",
   "name": "python3"
  },
  "language_info": {
   "codemirror_mode": {
    "name": "ipython",
    "version": 3
   },
   "file_extension": ".py",
   "mimetype": "text/x-python",
   "name": "python",
   "nbconvert_exporter": "python",
   "pygments_lexer": "ipython3",
   "version": "3.7.1"
  }
 },
 "nbformat": 4,
 "nbformat_minor": 2
}
