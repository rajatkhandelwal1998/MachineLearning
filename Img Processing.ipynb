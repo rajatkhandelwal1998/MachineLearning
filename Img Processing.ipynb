{
 "cells": [
  {
   "cell_type": "code",
   "execution_count": 8,
   "metadata": {},
   "outputs": [],
   "source": [
    "import cv2"
   ]
  },
  {
   "cell_type": "code",
   "execution_count": 9,
   "metadata": {},
   "outputs": [],
   "source": [
    "imgpath='G:\\\\Photos\\College Friends\\Galta Ji\\\\IMG_20180831_222459049.jpg'"
   ]
  },
  {
   "cell_type": "code",
   "execution_count": 10,
   "metadata": {},
   "outputs": [],
   "source": [
    "img=cv2.imread(imgpath)\n",
    "img1=cv2.imread(imgpath)"
   ]
  },
  {
   "cell_type": "code",
   "execution_count": 11,
   "metadata": {},
   "outputs": [],
   "source": [
    "outpath='G:\\\\Photos\\\\College Friends\\\\img1.jpg'"
   ]
  },
  {
   "cell_type": "code",
   "execution_count": 12,
   "metadata": {},
   "outputs": [
    {
     "name": "stdout",
     "output_type": "stream",
     "text": [
      "[[[ 36  91  98]\n",
      "  [ 31  83  90]\n",
      "  [ 33  73  85]\n",
      "  ...\n",
      "  [ 29  29  29]\n",
      "  [ 29  29  29]\n",
      "  [ 29  29  29]]\n",
      "\n",
      " [[ 26  78  85]\n",
      "  [ 31  78  86]\n",
      "  [ 27  67  79]\n",
      "  ...\n",
      "  [ 29  29  29]\n",
      "  [ 29  29  29]\n",
      "  [ 29  29  29]]\n",
      "\n",
      " [[ 29  70  79]\n",
      "  [ 29  70  79]\n",
      "  [ 30  70  82]\n",
      "  ...\n",
      "  [ 29  29  29]\n",
      "  [ 29  29  29]\n",
      "  [ 29  29  29]]\n",
      "\n",
      " ...\n",
      "\n",
      " [[ 31  50  93]\n",
      "  [ 31  53  95]\n",
      "  [ 30  52  93]\n",
      "  ...\n",
      "  [ 44  66  84]\n",
      "  [ 42  64  82]\n",
      "  [ 39  61  79]]\n",
      "\n",
      " [[ 33  54  99]\n",
      "  [ 32  56  98]\n",
      "  [ 30  55  95]\n",
      "  ...\n",
      "  [ 41  64  80]\n",
      "  [ 39  62  78]\n",
      "  [ 35  58  74]]\n",
      "\n",
      " [[ 32  55 100]\n",
      "  [ 32  56  98]\n",
      "  [ 27  52  94]\n",
      "  ...\n",
      "  [ 43  66  82]\n",
      "  [ 43  66  82]\n",
      "  [ 37  60  76]]]\n"
     ]
    }
   ],
   "source": [
    "print(img)"
   ]
  },
  {
   "cell_type": "code",
   "execution_count": 13,
   "metadata": {},
   "outputs": [
    {
     "name": "stdout",
     "output_type": "stream",
     "text": [
      "<class 'numpy.ndarray'>\n"
     ]
    }
   ],
   "source": [
    "print(type(img))"
   ]
  },
  {
   "cell_type": "code",
   "execution_count": 14,
   "metadata": {},
   "outputs": [
    {
     "name": "stdout",
     "output_type": "stream",
     "text": [
      "uint8\n",
      "(592, 1040, 3)\n",
      "3\n",
      "1847040\n"
     ]
    }
   ],
   "source": [
    "print(img.dtype)\n",
    "print(img.shape)\n",
    "print(img.ndim)\n",
    "print(img.size)"
   ]
  },
  {
   "cell_type": "code",
   "execution_count": 15,
   "metadata": {},
   "outputs": [
    {
     "ename": "AttributeError",
     "evalue": "module 'cv2.cv2' has no attribute 'destroyWindows'",
     "output_type": "error",
     "traceback": [
      "\u001b[1;31m---------------------------------------------------------------------------\u001b[0m",
      "\u001b[1;31mAttributeError\u001b[0m                            Traceback (most recent call last)",
      "\u001b[1;32m<ipython-input-15-79bac4357ee3>\u001b[0m in \u001b[0;36m<module>\u001b[1;34m\u001b[0m\n\u001b[0;32m      5\u001b[0m \u001b[0mcv2\u001b[0m\u001b[1;33m.\u001b[0m\u001b[0mdestroyAllWindows\u001b[0m\u001b[1;33m(\u001b[0m\u001b[1;33m)\u001b[0m\u001b[1;33m\u001b[0m\u001b[1;33m\u001b[0m\u001b[0m\n\u001b[0;32m      6\u001b[0m \u001b[1;33m\u001b[0m\u001b[0m\n\u001b[1;32m----> 7\u001b[1;33m \u001b[0mcv2\u001b[0m\u001b[1;33m.\u001b[0m\u001b[0mdestroyWindows\u001b[0m\u001b[1;33m(\u001b[0m\u001b[1;34m'Gray Img'\u001b[0m\u001b[1;33m)\u001b[0m\u001b[1;33m\u001b[0m\u001b[1;33m\u001b[0m\u001b[0m\n\u001b[0m\u001b[0;32m      8\u001b[0m \u001b[1;33m\u001b[0m\u001b[0m\n\u001b[0;32m      9\u001b[0m \u001b[1;33m\u001b[0m\u001b[0m\n",
      "\u001b[1;31mAttributeError\u001b[0m: module 'cv2.cv2' has no attribute 'destroyWindows'"
     ]
    }
   ],
   "source": [
    "cv2.imshow('My Image',img)\n",
    "cv2.imshow('Color Image',img)\n",
    "cv2.imshow('Gray img',img)\n",
    "cv2.waitKey(0)\n",
    "cv2.destroyAllWindows()\n",
    "\n",
    "cv2.destroyWindows('Gray Img')\n",
    "\n",
    "\n"
   ]
  },
  {
   "cell_type": "code",
   "execution_count": null,
   "metadata": {},
   "outputs": [],
   "source": []
  },
  {
   "cell_type": "code",
   "execution_count": null,
   "metadata": {},
   "outputs": [],
   "source": []
  },
  {
   "cell_type": "code",
   "execution_count": null,
   "metadata": {},
   "outputs": [],
   "source": []
  }
 ],
 "metadata": {
  "kernelspec": {
   "display_name": "Python 3",
   "language": "python",
   "name": "python3"
  },
  "language_info": {
   "codemirror_mode": {
    "name": "ipython",
    "version": 3
   },
   "file_extension": ".py",
   "mimetype": "text/x-python",
   "name": "python",
   "nbconvert_exporter": "python",
   "pygments_lexer": "ipython3",
   "version": "3.7.1"
  }
 },
 "nbformat": 4,
 "nbformat_minor": 2
}
