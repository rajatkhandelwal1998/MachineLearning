{
 "cells": [
  {
   "cell_type": "code",
   "execution_count": 1,
   "metadata": {},
   "outputs": [],
   "source": [
    "import numpy as np\n",
    "import pandas  as pd\n",
    "from pandas import Series,DataFrame"
   ]
  },
  {
   "cell_type": "code",
   "execution_count": 2,
   "metadata": {},
   "outputs": [
    {
     "data": {
      "text/plain": [
       "c    0\n",
       "a    1\n",
       "b    2\n",
       "dtype: int64"
      ]
     },
     "execution_count": 2,
     "metadata": {},
     "output_type": "execute_result"
    }
   ],
   "source": [
    "ser1=Series(range(3),index=['c','a','b'])\n",
    "ser1"
   ]
  },
  {
   "cell_type": "code",
   "execution_count": 3,
   "metadata": {},
   "outputs": [
    {
     "data": {
      "text/plain": [
       "a    1\n",
       "b    2\n",
       "c    0\n",
       "dtype: int64"
      ]
     },
     "execution_count": 3,
     "metadata": {},
     "output_type": "execute_result"
    }
   ],
   "source": [
    "ser2=ser1.sort_index()\n",
    "ser2"
   ]
  },
  {
   "cell_type": "code",
   "execution_count": 5,
   "metadata": {},
   "outputs": [
    {
     "data": {
      "text/plain": [
       "c    0\n",
       "a    1\n",
       "b    2\n",
       "dtype: int64"
      ]
     },
     "execution_count": 5,
     "metadata": {},
     "output_type": "execute_result"
    }
   ],
   "source": [
    "ser2.sort_values()\n"
   ]
  },
  {
   "cell_type": "code",
   "execution_count": 6,
   "metadata": {},
   "outputs": [
    {
     "data": {
      "text/plain": [
       "c    0\n",
       "a    1\n",
       "b    2\n",
       "dtype: int64"
      ]
     },
     "execution_count": 6,
     "metadata": {},
     "output_type": "execute_result"
    }
   ],
   "source": [
    "ser1"
   ]
  },
  {
   "cell_type": "code",
   "execution_count": 7,
   "metadata": {},
   "outputs": [],
   "source": [
    "from numpy.random import randn"
   ]
  },
  {
   "cell_type": "code",
   "execution_count": 8,
   "metadata": {},
   "outputs": [
    {
     "data": {
      "text/plain": [
       "0     1.724988\n",
       "1    -1.559414\n",
       "2     1.815262\n",
       "3    -0.570642\n",
       "4    -1.695969\n",
       "5     0.067229\n",
       "6    -0.122659\n",
       "7    -0.083392\n",
       "8     0.564651\n",
       "9     0.294434\n",
       "10   -0.702778\n",
       "11   -0.347199\n",
       "dtype: float64"
      ]
     },
     "execution_count": 8,
     "metadata": {},
     "output_type": "execute_result"
    }
   ],
   "source": [
    "ser3=Series(randn(12))\n",
    "ser3"
   ]
  },
  {
   "cell_type": "code",
   "execution_count": 9,
   "metadata": {},
   "outputs": [
    {
     "data": {
      "text/plain": [
       "4    -1.695969\n",
       "1    -1.559414\n",
       "10   -0.702778\n",
       "3    -0.570642\n",
       "11   -0.347199\n",
       "6    -0.122659\n",
       "7    -0.083392\n",
       "5     0.067229\n",
       "9     0.294434\n",
       "8     0.564651\n",
       "0     1.724988\n",
       "2     1.815262\n",
       "dtype: float64"
      ]
     },
     "execution_count": 9,
     "metadata": {},
     "output_type": "execute_result"
    }
   ],
   "source": [
    "ser4=ser3.sort_values()\n",
    "ser4"
   ]
  },
  {
   "cell_type": "code",
   "execution_count": 10,
   "metadata": {},
   "outputs": [
    {
     "data": {
      "text/plain": [
       "0     1.724988\n",
       "1    -1.559414\n",
       "2     1.815262\n",
       "3    -0.570642\n",
       "4    -1.695969\n",
       "5     0.067229\n",
       "6    -0.122659\n",
       "7    -0.083392\n",
       "8     0.564651\n",
       "9     0.294434\n",
       "10   -0.702778\n",
       "11   -0.347199\n",
       "dtype: float64"
      ]
     },
     "execution_count": 10,
     "metadata": {},
     "output_type": "execute_result"
    }
   ],
   "source": [
    "ser4.sort_index()"
   ]
  },
  {
   "cell_type": "code",
   "execution_count": 11,
   "metadata": {},
   "outputs": [
    {
     "data": {
      "text/plain": [
       "0     11.0\n",
       "1      2.0\n",
       "2     12.0\n",
       "3      4.0\n",
       "4      1.0\n",
       "5      8.0\n",
       "6      6.0\n",
       "7      7.0\n",
       "8     10.0\n",
       "9      9.0\n",
       "10     3.0\n",
       "11     5.0\n",
       "dtype: float64"
      ]
     },
     "execution_count": 11,
     "metadata": {},
     "output_type": "execute_result"
    }
   ],
   "source": [
    "ser3.rank()"
   ]
  },
  {
   "cell_type": "code",
   "execution_count": 12,
   "metadata": {},
   "outputs": [
    {
     "data": {
      "text/plain": [
       "4      1.0\n",
       "1      2.0\n",
       "10     3.0\n",
       "3      4.0\n",
       "11     5.0\n",
       "6      6.0\n",
       "7      7.0\n",
       "5      8.0\n",
       "9      9.0\n",
       "8     10.0\n",
       "0     11.0\n",
       "2     12.0\n",
       "dtype: float64"
      ]
     },
     "execution_count": 12,
     "metadata": {},
     "output_type": "execute_result"
    }
   ],
   "source": [
    "ser4.rank()"
   ]
  },
  {
   "cell_type": "code",
   "execution_count": 14,
   "metadata": {},
   "outputs": [
    {
     "data": {
      "text/plain": [
       "4    -1.695969\n",
       "1    -1.559414\n",
       "10   -0.702778\n",
       "3    -0.570642\n",
       "11   -0.347199\n",
       "6    -0.122659\n",
       "7    -0.083392\n",
       "5     0.067229\n",
       "9     0.294434\n",
       "8     0.564651\n",
       "0     1.724988\n",
       "2     1.815262\n",
       "dtype: float64"
      ]
     },
     "execution_count": 14,
     "metadata": {},
     "output_type": "execute_result"
    }
   ],
   "source": [
    "ser4"
   ]
  },
  {
   "cell_type": "code",
   "execution_count": null,
   "metadata": {},
   "outputs": [],
   "source": []
  }
 ],
 "metadata": {
  "kernelspec": {
   "display_name": "Python 3",
   "language": "python",
   "name": "python3"
  },
  "language_info": {
   "codemirror_mode": {
    "name": "ipython",
    "version": 3
   },
   "file_extension": ".py",
   "mimetype": "text/x-python",
   "name": "python",
   "nbconvert_exporter": "python",
   "pygments_lexer": "ipython3",
   "version": "3.7.1"
  }
 },
 "nbformat": 4,
 "nbformat_minor": 2
}
