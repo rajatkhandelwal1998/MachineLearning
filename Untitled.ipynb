{
 "cells": [
  {
   "cell_type": "code",
   "execution_count": null,
   "metadata": {},
   "outputs": [],
   "source": [
    "a=[{'word': 'hello','lexicalEntries': [{ 'pronunciations': [{'dialects': ['British English'],'phoneticSpelling': 'h\\u0259\\u02c8l\\u0259\\u028a', 'audioFile': 'http://audio.oxforddictionaries.com/en/mp3/hello_gb_1.mp3', 'phoneticNotation': 'IPA'}, {'dialects': ['British English'], 'phoneticSpelling': 'h\\u025b\\u02c8l\\u0259\\u028a', 'phoneticNotation': 'IPA'}],'text': 'hello', 'lexicalCategory': 'Interjection', 'language': 'en', 'entries': [{'variantForms': [{'text': 'hallo'}, {'text': 'hullo'}],'senses': [{'definitions': ['used as a greeting or to begin a telephone conversation'], 'subsenses': [{'regions': ['British'], 'definitions': ['used to express surprise'], 'examples': [{'text': u\"hello, what's all this then?\"}], 'id': 'm_en_gbus0460730.017'}, {'definitions': [u\"used as a cry to attract someone's attention\"], 'examples': [{'text': '\\u2018Hello below!\\u2019 he cried'}], 'id': 'm_en_gbus0460730.018'}, {'definitions': ['used informally to express sarcasm or anger'], 'examples': [{'text': 'Hello! Did you even get what the play was about?'}], 'id': 'm_en_gbus0460730.019'}], 'examples': [{'text': 'hello there, Katie!'}], 'id': 'm_en_gbus0460730.012'}], 'etymologies': ['early 19th century: variant of earlier hollo; related to holla'],'homographNumber': '000'}]}, {'pronunciations': [{'dialects': ['British English'], 'phoneticSpelling': 'h\\u0259\\u02c8l\\u0259\\u028a', 'audioFile': 'http://audio.oxforddictionaries.com/en/mp3/hello_gb_1.mp3', 'phoneticNotation': 'IPA'}, {'dialects': ['British English'], 'phoneticSpelling': 'h\\u025b\\u02c8l\\u0259\\u028a', 'phoneticNotation': 'IPA'}], 'text': 'hello', 'lexicalCategory': 'Noun', 'language': 'en', 'entries': [{'grammaticalFeatures': [{'text': 'Singular','type': 'Number'}], 'senses': [{'definitions': ['an utterance of \\u2018hello\\u2019; a greeting'],'examples': [{'text': 'she was getting polite nods and hellos from people'}], 'id': 'm_en_gbus0460730.025'}], 'variantForms': [{'text': 'hullo'},{'text': 'hallo'}], 'homographNumber': '001'}]},{'pronunciations': [{'dialects': ['British English'], 'phoneticSpelling': 'h\\u0259\\u02c8l\\u0259\\u028a', 'audioFile': 'http://audio.oxforddictionaries.com/en/mp3/hello_gb_1.mp3', 'phoneticNotation': 'IPA'}, {'dialects': ['British English'], 'phoneticSpelling': 'h\\u025b\\u02c8l\\u0259\\u028a', 'phoneticNotation': 'IPA'}], 'text': 'hello', 'lexicalCategory': 'Verb', 'language': 'en', 'entries': [{'grammaticalFeatures': [{'text': 'Intransitive', 'type': 'Subcategorization'}, {'text': 'Present', 'type': 'Tense'}], 'senses': [{'definitions': ['say or shout \\u2018hello\\u2019'], 'examples': [{'text': 'I pressed the phone button and helloed'}], 'id': 'm_en_gbus0460730.034'}], 'variantForms': [{'text': 'hallo'}, {'text': 'hullo'}],'homographNumber': '002'}]}], 'type': 'headword', 'id': 'hello','language': 'en'}]\n"
   ]
  }
 ],
 "metadata": {
  "kernelspec": {
   "display_name": "Python 3",
   "language": "python",
   "name": "python3"
  },
  "language_info": {
   "codemirror_mode": {
    "name": "ipython",
    "version": 3
   },
   "file_extension": ".py",
   "mimetype": "text/x-python",
   "name": "python",
   "nbconvert_exporter": "python",
   "pygments_lexer": "ipython3",
   "version": "3.7.1"
  }
 },
 "nbformat": 4,
 "nbformat_minor": 2
}
