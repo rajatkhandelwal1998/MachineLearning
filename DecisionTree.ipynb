{
 "cells": [
  {
   "cell_type": "code",
   "execution_count": 1,
   "metadata": {},
   "outputs": [],
   "source": [
    "from sklearn.tree import DecisionTreeClassifier"
   ]
  },
  {
   "cell_type": "code",
   "execution_count": 28,
   "metadata": {},
   "outputs": [],
   "source": [
    "features=[[150,0],[170,0],[140,1],[130,1],[150,1],[1,2],[1.3,2],[1.8,2],[90,1],[100,1],[95,1]]#w,c\n",
    "labels=['orange','orange','apple','apple','apple','grape','grape','grape','plum','plum','plum']\n",
    "clf=DecisionTreeClassifier()\n",
    "clf=clf.fit(features,labels)"
   ]
  },
  {
   "cell_type": "code",
   "execution_count": 29,
   "metadata": {},
   "outputs": [
    {
     "name": "stdout",
     "output_type": "stream",
     "text": [
      "Enter the weight:200\n",
      "Enter the texture:5\n",
      "fruit you are searching for is:\n",
      "['grape']\n"
     ]
    }
   ],
   "source": [
    "weight=input('Enter the weight:')\n",
    "texture=input('Enter the texture:')\n",
    "print('fruit you are searching for is:')\n",
    "print(clf.predict([[weight,texture]]))\n"
   ]
  },
  {
   "cell_type": "code",
   "execution_count": null,
   "metadata": {},
   "outputs": [],
   "source": []
  }
 ],
 "metadata": {
  "kernelspec": {
   "display_name": "Python 3",
   "language": "python",
   "name": "python3"
  },
  "language_info": {
   "codemirror_mode": {
    "name": "ipython",
    "version": 3
   },
   "file_extension": ".py",
   "mimetype": "text/x-python",
   "name": "python",
   "nbconvert_exporter": "python",
   "pygments_lexer": "ipython3",
   "version": "3.7.1"
  }
 },
 "nbformat": 4,
 "nbformat_minor": 2
}
