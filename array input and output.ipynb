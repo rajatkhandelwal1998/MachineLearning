{
 "cells": [
  {
   "cell_type": "code",
   "execution_count": 1,
   "metadata": {},
   "outputs": [],
   "source": [
    "import numpy as np"
   ]
  },
  {
   "cell_type": "code",
   "execution_count": 2,
   "metadata": {},
   "outputs": [
    {
     "data": {
      "text/plain": [
       "array([0, 1, 2, 3, 4])"
      ]
     },
     "execution_count": 2,
     "metadata": {},
     "output_type": "execute_result"
    }
   ],
   "source": [
    "arr=np.arange(5)\n",
    "arr"
   ]
  },
  {
   "cell_type": "code",
   "execution_count": 3,
   "metadata": {},
   "outputs": [],
   "source": [
    "np.save('my arr',arr)"
   ]
  },
  {
   "cell_type": "code",
   "execution_count": 4,
   "metadata": {},
   "outputs": [
    {
     "name": "stdout",
     "output_type": "stream",
     "text": [
      "Package                            Version   \n",
      "---------------------------------- ----------\n",
      "alabaster                          0.7.12    \n",
      "anaconda-client                    1.7.2     \n",
      "anaconda-navigator                 1.9.6     \n",
      "anaconda-project                   0.8.2     \n",
      "asn1crypto                         0.24.0    \n",
      "astroid                            2.1.0     \n",
      "astropy                            3.1       \n",
      "atomicwrites                       1.2.1     \n",
      "attrs                              18.2.0    \n",
      "Babel                              2.6.0     \n",
      "backcall                           0.1.0     \n",
      "backports.os                       0.1.1     \n",
      "backports.shutil-get-terminal-size 1.0.0     \n",
      "beautifulsoup4                     4.6.3     \n",
      "bitarray                           0.8.3     \n",
      "bkcharts                           0.2       \n",
      "blaze                              0.11.3    \n",
      "bleach                             3.0.2     \n",
      "bokeh                              1.0.2     \n",
      "boto                               2.49.0    \n",
      "Bottleneck                         1.2.1     \n",
      "certifi                            2018.11.29\n",
      "cffi                               1.11.5    \n",
      "chardet                            3.0.4     \n",
      "Click                              7.0       \n",
      "cloudpickle                        0.6.1     \n",
      "clyent                             1.2.2     \n",
      "colorama                           0.4.1     \n",
      "comtypes                           1.1.7     \n",
      "conda                              4.5.12    \n",
      "conda-build                        3.17.6    \n",
      "conda-verify                       3.1.1     \n",
      "contextlib2                        0.5.5     \n",
      "cryptography                       2.4.2     \n",
      "cycler                             0.10.0    \n",
      "Cython                             0.29.2    \n",
      "cytoolz                            0.9.0.1   \n",
      "dask                               1.0.0     \n",
      "datashape                          0.5.4     \n",
      "decorator                          4.3.0     \n",
      "defusedxml                         0.5.0     \n",
      "distributed                        1.25.1    \n",
      "docutils                           0.14      \n",
      "entrypoints                        0.2.3     \n",
      "et-xmlfile                         1.0.1     \n",
      "fastcache                          1.0.2     \n",
      "filelock                           3.0.10    \n",
      "Flask                              1.0.2     \n",
      "Flask-Cors                         3.0.7     \n",
      "future                             0.17.1    \n",
      "gevent                             1.3.7     \n",
      "glob2                              0.6       \n",
      "greenlet                           0.4.15    \n",
      "h5py                               2.8.0     \n",
      "heapdict                           1.0.0     \n",
      "html5lib                           1.0.1     \n",
      "idna                               2.8       \n",
      "imageio                            2.4.1     \n",
      "imagesize                          1.1.0     \n",
      "importlib-metadata                 0.6       \n",
      "ipykernel                          5.1.0     \n",
      "ipython                            7.2.0     \n",
      "ipython-genutils                   0.2.0     \n",
      "ipywidgets                         7.4.2     \n",
      "isort                              4.3.4     \n",
      "itsdangerous                       1.1.0     \n",
      "jdcal                              1.4       \n",
      "jedi                               0.13.2    \n",
      "Jinja2                             2.10      \n",
      "jsonschema                         2.6.0     \n",
      "jupyter                            1.0.0     \n",
      "jupyter-client                     5.2.4     \n",
      "jupyter-console                    6.0.0     \n",
      "jupyter-core                       4.4.0     \n",
      "jupyterlab                         0.35.3    \n",
      "jupyterlab-server                  0.2.0     \n",
      "keyring                            17.0.0    \n",
      "kiwisolver                         1.0.1     \n",
      "lazy-object-proxy                  1.3.1     \n",
      "libarchive-c                       2.8       \n",
      "llvmlite                           0.26.0    \n",
      "locket                             0.2.0     \n",
      "lxml                               4.2.5     \n",
      "MarkupSafe                         1.1.0     \n",
      "matplotlib                         3.0.2     \n",
      "mccabe                             0.6.1     \n",
      "menuinst                           1.4.14    \n",
      "mistune                            0.8.4     \n",
      "mkl-fft                            1.0.6     \n",
      "mkl-random                         1.0.2     \n",
      "more-itertools                     4.3.0     \n",
      "mpmath                             1.1.0     \n",
      "msgpack                            0.5.6     \n",
      "multipledispatch                   0.6.0     \n",
      "navigator-updater                  0.2.1     \n",
      "nbconvert                          5.4.0     \n",
      "nbformat                           4.4.0     \n",
      "networkx                           2.2       \n",
      "nltk                               3.4       \n",
      "nose                               1.3.7     \n",
      "notebook                           5.7.4     \n",
      "numba                              0.41.0    \n",
      "numexpr                            2.6.8     \n",
      "numpy                              1.15.4    \n",
      "numpydoc                           0.8.0     \n",
      "odo                                0.5.1     \n",
      "olefile                            0.46      \n",
      "openpyxl                           2.5.12    \n",
      "packaging                          18.0      \n",
      "pandas                             0.23.4    \n",
      "pandocfilters                      1.4.2     \n",
      "parso                              0.3.1     \n",
      "partd                              0.3.9     \n",
      "path.py                            11.5.0    \n",
      "pathlib2                           2.3.3     \n",
      "patsy                              0.5.1     \n",
      "pep8                               1.7.1     \n",
      "pickleshare                        0.7.5     \n",
      "Pillow                             5.3.0     \n",
      "pip                                18.1      \n",
      "pkginfo                            1.4.2     \n",
      "pluggy                             0.8.0     \n",
      "ply                                3.11      \n",
      "prometheus-client                  0.5.0     \n",
      "prompt-toolkit                     2.0.7     \n",
      "psutil                             5.4.8     \n",
      "py                                 1.7.0     \n",
      "pycodestyle                        2.4.0     \n",
      "pycosat                            0.6.3     \n",
      "pycparser                          2.19      \n",
      "pycrypto                           2.6.1     \n",
      "pycurl                             7.43.0.2  \n",
      "pyflakes                           2.0.0     \n",
      "Pygments                           2.3.1     \n",
      "pylint                             2.2.2     \n",
      "pyodbc                             4.0.25    \n",
      "pyOpenSSL                          18.0.0    \n",
      "pyparsing                          2.3.0     \n",
      "PySocks                            1.6.8     \n",
      "pytest                             4.0.2     \n",
      "pytest-arraydiff                   0.3       \n",
      "pytest-astropy                     0.5.0     \n",
      "pytest-doctestplus                 0.2.0     \n",
      "pytest-openfiles                   0.3.1     \n",
      "pytest-remotedata                  0.3.1     \n",
      "python-dateutil                    2.7.5     \n",
      "pytz                               2018.7    \n",
      "PyWavelets                         1.0.1     \n",
      "pywin32                            223       \n",
      "pywinpty                           0.5.5     \n",
      "PyYAML                             3.13      \n",
      "pyzmq                              17.1.2    \n",
      "QtAwesome                          0.5.3     \n",
      "qtconsole                          4.4.3     \n",
      "QtPy                               1.5.2     \n",
      "requests                           2.21.0    \n",
      "rope                               0.11.0    \n",
      "ruamel-yaml                        0.15.46   \n",
      "scikit-image                       0.14.1    \n",
      "scikit-learn                       0.20.1    \n",
      "scipy                              1.1.0     \n",
      "seaborn                            0.9.0     \n",
      "Send2Trash                         1.5.0     \n",
      "setuptools                         40.6.3    \n",
      "simplegeneric                      0.8.1     \n",
      "singledispatch                     3.4.0.3   \n",
      "six                                1.12.0    \n",
      "snowballstemmer                    1.2.1     \n",
      "sortedcollections                  1.0.1     \n",
      "sortedcontainers                   2.1.0     \n",
      "Sphinx                             1.8.2     \n",
      "sphinxcontrib-websupport           1.1.0     \n",
      "spyder                             3.3.2     \n",
      "spyder-kernels                     0.3.0     \n",
      "SQLAlchemy                         1.2.15    \n",
      "statsmodels                        0.9.0     \n",
      "sympy                              1.3       \n",
      "tables                             3.4.4     \n",
      "tblib                              1.3.2     \n",
      "terminado                          0.8.1     \n",
      "testpath                           0.4.2     \n",
      "toolz                              0.9.0     \n",
      "tornado                            5.1.1     \n",
      "tqdm                               4.28.1    \n",
      "traitlets                          4.3.2     \n",
      "unicodecsv                         0.14.1    \n",
      "urllib3                            1.24.1    \n",
      "wcwidth                            0.1.7     \n",
      "webencodings                       0.5.1     \n",
      "Werkzeug                           0.14.1    \n",
      "wheel                              0.32.3    \n",
      "widgetsnbextension                 3.4.2     \n",
      "win-inet-pton                      1.0.1     \n",
      "win-unicode-console                0.5       \n",
      "wincertstore                       0.2       \n",
      "wrapt                              1.10.11   \n",
      "xlrd                               1.2.0     \n",
      "XlsxWriter                         1.1.2     \n",
      "xlwings                            0.15.1    \n",
      "xlwt                               1.3.0     \n",
      "zict                               0.1.3     \n"
     ]
    }
   ],
   "source": [
    "!pip list"
   ]
  },
  {
   "cell_type": "code",
   "execution_count": 5,
   "metadata": {},
   "outputs": [
    {
     "name": "stdout",
     "output_type": "stream",
     "text": [
      "Collecting pyttsx3\n",
      "  Using cached https://files.pythonhosted.org/packages/12/b4/75d792acf44c01200690030f185e246244ebdfc12db84690e5c1c4df2864/pyttsx3-2.7-py3-none-any.whl\n",
      "Installing collected packages: pyttsx3\n",
      "Successfully installed pyttsx3-2.7\n"
     ]
    }
   ],
   "source": [
    "!pip install pyttsx3"
   ]
  },
  {
   "cell_type": "code",
   "execution_count": 6,
   "metadata": {},
   "outputs": [
    {
     "data": {
      "text/plain": [
       "array([0, 1, 2, 3, 4, 5, 6, 7, 8, 9])"
      ]
     },
     "execution_count": 6,
     "metadata": {},
     "output_type": "execute_result"
    }
   ],
   "source": [
    "arr=np.arange(10)\n",
    "arr"
   ]
  },
  {
   "cell_type": "code",
   "execution_count": 7,
   "metadata": {},
   "outputs": [
    {
     "data": {
      "text/plain": [
       "array([0, 1, 2, 3, 4])"
      ]
     },
     "execution_count": 7,
     "metadata": {},
     "output_type": "execute_result"
    }
   ],
   "source": [
    "arr1=np.load('my arr.npy')\n",
    "arr1"
   ]
  },
  {
   "cell_type": "code",
   "execution_count": 8,
   "metadata": {},
   "outputs": [],
   "source": [
    "arr2=arr"
   ]
  },
  {
   "cell_type": "code",
   "execution_count": 10,
   "metadata": {},
   "outputs": [],
   "source": [
    "np.savez('ziparray.npz',x=arr1,y=arr2)"
   ]
  },
  {
   "cell_type": "code",
   "execution_count": 11,
   "metadata": {},
   "outputs": [],
   "source": [
    "archive_array=np.load('ziparray.npz')"
   ]
  },
  {
   "cell_type": "code",
   "execution_count": 12,
   "metadata": {},
   "outputs": [
    {
     "data": {
      "text/plain": [
       "array([0, 1, 2, 3, 4])"
      ]
     },
     "execution_count": 12,
     "metadata": {},
     "output_type": "execute_result"
    }
   ],
   "source": [
    "archive_array['x']"
   ]
  },
  {
   "cell_type": "code",
   "execution_count": 13,
   "metadata": {},
   "outputs": [
    {
     "data": {
      "text/plain": [
       "array([0, 1, 2, 3, 4, 5, 6, 7, 8, 9])"
      ]
     },
     "execution_count": 13,
     "metadata": {},
     "output_type": "execute_result"
    }
   ],
   "source": [
    "archive_array['y']"
   ]
  },
  {
   "cell_type": "code",
   "execution_count": 14,
   "metadata": {},
   "outputs": [
    {
     "data": {
      "text/plain": [
       "KeysView(<numpy.lib.npyio.NpzFile object at 0x0000022E7E0D54E0>)"
      ]
     },
     "execution_count": 14,
     "metadata": {},
     "output_type": "execute_result"
    }
   ],
   "source": [
    "archive_array.keys()"
   ]
  },
  {
   "cell_type": "code",
   "execution_count": 16,
   "metadata": {},
   "outputs": [
    {
     "data": {
      "text/plain": [
       "['x', 'y']"
      ]
     },
     "execution_count": 16,
     "metadata": {},
     "output_type": "execute_result"
    }
   ],
   "source": [
    "[key for key in archive_array.keys()]"
   ]
  },
  {
   "cell_type": "code",
   "execution_count": 17,
   "metadata": {},
   "outputs": [
    {
     "data": {
      "text/plain": [
       "[array([0, 1, 2, 3, 4]), array([0, 1, 2, 3, 4, 5, 6, 7, 8, 9])]"
      ]
     },
     "execution_count": 17,
     "metadata": {},
     "output_type": "execute_result"
    }
   ],
   "source": [
    "[value for value in archive_array.values()]"
   ]
  },
  {
   "cell_type": "code",
   "execution_count": 18,
   "metadata": {},
   "outputs": [
    {
     "data": {
      "text/plain": [
       "[('x', array([0, 1, 2, 3, 4])), ('y', array([0, 1, 2, 3, 4, 5, 6, 7, 8, 9]))]"
      ]
     },
     "execution_count": 18,
     "metadata": {},
     "output_type": "execute_result"
    }
   ],
   "source": [
    "[item for item in archive_array.items()]"
   ]
  },
  {
   "cell_type": "code",
   "execution_count": 19,
   "metadata": {},
   "outputs": [],
   "source": [
    "import numpy as np"
   ]
  },
  {
   "cell_type": "code",
   "execution_count": 20,
   "metadata": {},
   "outputs": [
    {
     "data": {
      "text/plain": [
       "array([[1, 2, 3],\n",
       "       [4, 5, 6]])"
      ]
     },
     "execution_count": 20,
     "metadata": {},
     "output_type": "execute_result"
    }
   ],
   "source": [
    "arr=np.array([[1,2,3],[4,5,6]])\n",
    "arr"
   ]
  },
  {
   "cell_type": "code",
   "execution_count": 21,
   "metadata": {},
   "outputs": [],
   "source": [
    "np.savetxt('textarray.txt',arr,delimiter=',')"
   ]
  },
  {
   "cell_type": "code",
   "execution_count": 22,
   "metadata": {},
   "outputs": [
    {
     "data": {
      "text/plain": [
       "array([[1., 2., 3.],\n",
       "       [4., 5., 6.]])"
      ]
     },
     "execution_count": 22,
     "metadata": {},
     "output_type": "execute_result"
    }
   ],
   "source": [
    "arr1=np.loadtxt('textarray.txt',delimiter=',')\n",
    "arr1"
   ]
  },
  {
   "cell_type": "code",
   "execution_count": null,
   "metadata": {},
   "outputs": [],
   "source": []
  }
 ],
 "metadata": {
  "kernelspec": {
   "display_name": "Python 3",
   "language": "python",
   "name": "python3"
  },
  "language_info": {
   "codemirror_mode": {
    "name": "ipython",
    "version": 3
   },
   "file_extension": ".py",
   "mimetype": "text/x-python",
   "name": "python",
   "nbconvert_exporter": "python",
   "pygments_lexer": "ipython3",
   "version": "3.7.1"
  }
 },
 "nbformat": 4,
 "nbformat_minor": 2
}
