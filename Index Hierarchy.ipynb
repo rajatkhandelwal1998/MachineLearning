{
 "cells": [
  {
   "cell_type": "code",
   "execution_count": 1,
   "metadata": {},
   "outputs": [],
   "source": [
    "import numpy as np\n",
    "import pandas  as pd\n",
    "from pandas import Series,DataFrame\n",
    "from numpy.random import randn"
   ]
  },
  {
   "cell_type": "code",
   "execution_count": 2,
   "metadata": {},
   "outputs": [
    {
     "data": {
      "text/plain": [
       "1  a   -0.130452\n",
       "   b   -0.526716\n",
       "   c    1.320150\n",
       "2  a    0.341825\n",
       "   b   -1.645596\n",
       "   c   -0.793974\n",
       "3  a   -0.205079\n",
       "   b    1.794185\n",
       "   c   -1.607524\n",
       "dtype: float64"
      ]
     },
     "execution_count": 2,
     "metadata": {},
     "output_type": "execute_result"
    }
   ],
   "source": [
    "ser=Series(randn(9),index=[[1,1,1,2,2,2,3,3,3],['a','b','c','a','b','c','a','b','c']])\n",
    "ser"
   ]
  },
  {
   "cell_type": "code",
   "execution_count": 3,
   "metadata": {},
   "outputs": [
    {
     "data": {
      "text/plain": [
       "MultiIndex(levels=[[1, 2, 3], ['a', 'b', 'c']],\n",
       "           labels=[[0, 0, 0, 1, 1, 1, 2, 2, 2], [0, 1, 2, 0, 1, 2, 0, 1, 2]])"
      ]
     },
     "execution_count": 3,
     "metadata": {},
     "output_type": "execute_result"
    }
   ],
   "source": [
    "ser.index"
   ]
  },
  {
   "cell_type": "code",
   "execution_count": 4,
   "metadata": {},
   "outputs": [
    {
     "data": {
      "text/plain": [
       "a   -0.130452\n",
       "b   -0.526716\n",
       "c    1.320150\n",
       "dtype: float64"
      ]
     },
     "execution_count": 4,
     "metadata": {},
     "output_type": "execute_result"
    }
   ],
   "source": [
    "ser[1]"
   ]
  },
  {
   "cell_type": "code",
   "execution_count": 5,
   "metadata": {},
   "outputs": [
    {
     "data": {
      "text/plain": [
       "a   -0.205079\n",
       "b    1.794185\n",
       "c   -1.607524\n",
       "dtype: float64"
      ]
     },
     "execution_count": 5,
     "metadata": {},
     "output_type": "execute_result"
    }
   ],
   "source": [
    "ser[3]"
   ]
  },
  {
   "cell_type": "code",
   "execution_count": 11,
   "metadata": {},
   "outputs": [
    {
     "data": {
      "text/plain": [
       "1   -0.130452\n",
       "2    0.341825\n",
       "3   -0.205079\n",
       "dtype: float64"
      ]
     },
     "execution_count": 11,
     "metadata": {},
     "output_type": "execute_result"
    }
   ],
   "source": [
    "ser[:,'a']"
   ]
  },
  {
   "cell_type": "code",
   "execution_count": 13,
   "metadata": {},
   "outputs": [
    {
     "data": {
      "text/plain": [
       "1   -0.526716\n",
       "2   -1.645596\n",
       "3    1.794185\n",
       "dtype: float64"
      ]
     },
     "execution_count": 13,
     "metadata": {},
     "output_type": "execute_result"
    }
   ],
   "source": [
    "ser[:,'b']"
   ]
  },
  {
   "cell_type": "code",
   "execution_count": 14,
   "metadata": {},
   "outputs": [
    {
     "data": {
      "text/plain": [
       "-0.7939740650195146"
      ]
     },
     "execution_count": 14,
     "metadata": {},
     "output_type": "execute_result"
    }
   ],
   "source": [
    "ser[2]['c']"
   ]
  },
  {
   "cell_type": "code",
   "execution_count": 15,
   "metadata": {},
   "outputs": [
    {
     "data": {
      "text/plain": [
       "a   -0.205079\n",
       "b    1.794185\n",
       "c   -1.607524\n",
       "dtype: float64"
      ]
     },
     "execution_count": 15,
     "metadata": {},
     "output_type": "execute_result"
    }
   ],
   "source": [
    "ser[3][:]"
   ]
  },
  {
   "cell_type": "code",
   "execution_count": 16,
   "metadata": {},
   "outputs": [
    {
     "data": {
      "text/plain": [
       "1  b   -0.526716\n",
       "   c    1.320150\n",
       "dtype: float64"
      ]
     },
     "execution_count": 16,
     "metadata": {},
     "output_type": "execute_result"
    }
   ],
   "source": [
    "ser[1:3][:]"
   ]
  },
  {
   "cell_type": "code",
   "execution_count": 17,
   "metadata": {},
   "outputs": [
    {
     "data": {
      "text/plain": [
       "1  a   -0.130452\n",
       "   b   -0.526716\n",
       "   c    1.320150\n",
       "2  a    0.341825\n",
       "   b   -1.645596\n",
       "   c   -0.793974\n",
       "3  a   -0.205079\n",
       "   b    1.794185\n",
       "   c   -1.607524\n",
       "dtype: float64"
      ]
     },
     "execution_count": 17,
     "metadata": {},
     "output_type": "execute_result"
    }
   ],
   "source": [
    "ser[:][:]"
   ]
  },
  {
   "cell_type": "code",
   "execution_count": 18,
   "metadata": {},
   "outputs": [],
   "source": [
    "df=ser.unstack()# unstack convert lower index in columns"
   ]
  },
  {
   "cell_type": "code",
   "execution_count": 19,
   "metadata": {},
   "outputs": [
    {
     "data": {
      "text/html": [
       "<div>\n",
       "<style scoped>\n",
       "    .dataframe tbody tr th:only-of-type {\n",
       "        vertical-align: middle;\n",
       "    }\n",
       "\n",
       "    .dataframe tbody tr th {\n",
       "        vertical-align: top;\n",
       "    }\n",
       "\n",
       "    .dataframe thead th {\n",
       "        text-align: right;\n",
       "    }\n",
       "</style>\n",
       "<table border=\"1\" class=\"dataframe\">\n",
       "  <thead>\n",
       "    <tr style=\"text-align: right;\">\n",
       "      <th></th>\n",
       "      <th>a</th>\n",
       "      <th>b</th>\n",
       "      <th>c</th>\n",
       "    </tr>\n",
       "  </thead>\n",
       "  <tbody>\n",
       "    <tr>\n",
       "      <th>1</th>\n",
       "      <td>-0.130452</td>\n",
       "      <td>-0.526716</td>\n",
       "      <td>1.320150</td>\n",
       "    </tr>\n",
       "    <tr>\n",
       "      <th>2</th>\n",
       "      <td>0.341825</td>\n",
       "      <td>-1.645596</td>\n",
       "      <td>-0.793974</td>\n",
       "    </tr>\n",
       "    <tr>\n",
       "      <th>3</th>\n",
       "      <td>-0.205079</td>\n",
       "      <td>1.794185</td>\n",
       "      <td>-1.607524</td>\n",
       "    </tr>\n",
       "  </tbody>\n",
       "</table>\n",
       "</div>"
      ],
      "text/plain": [
       "          a         b         c\n",
       "1 -0.130452 -0.526716  1.320150\n",
       "2  0.341825 -1.645596 -0.793974\n",
       "3 -0.205079  1.794185 -1.607524"
      ]
     },
     "execution_count": 19,
     "metadata": {},
     "output_type": "execute_result"
    }
   ],
   "source": [
    "df"
   ]
  },
  {
   "cell_type": "code",
   "execution_count": 26,
   "metadata": {},
   "outputs": [
    {
     "data": {
      "text/html": [
       "<div>\n",
       "<style scoped>\n",
       "    .dataframe tbody tr th:only-of-type {\n",
       "        vertical-align: middle;\n",
       "    }\n",
       "\n",
       "    .dataframe tbody tr th {\n",
       "        vertical-align: top;\n",
       "    }\n",
       "\n",
       "    .dataframe thead tr th {\n",
       "        text-align: left;\n",
       "    }\n",
       "</style>\n",
       "<table border=\"1\" class=\"dataframe\">\n",
       "  <thead>\n",
       "    <tr>\n",
       "      <th></th>\n",
       "      <th></th>\n",
       "      <th colspan=\"2\" halign=\"left\">jp</th>\n",
       "      <th colspan=\"2\" halign=\"left\">ud</th>\n",
       "      <th colspan=\"2\" halign=\"left\">dl</th>\n",
       "    </tr>\n",
       "    <tr>\n",
       "      <th></th>\n",
       "      <th></th>\n",
       "      <th>cold</th>\n",
       "      <th>hot</th>\n",
       "      <th>cold</th>\n",
       "      <th>hot</th>\n",
       "      <th>cold</th>\n",
       "      <th>hot</th>\n",
       "    </tr>\n",
       "  </thead>\n",
       "  <tbody>\n",
       "    <tr>\n",
       "      <th rowspan=\"2\" valign=\"top\">a</th>\n",
       "      <th>1</th>\n",
       "      <td>2.294628</td>\n",
       "      <td>-0.318873</td>\n",
       "      <td>0.317628</td>\n",
       "      <td>-1.360850</td>\n",
       "      <td>0.208652</td>\n",
       "      <td>1.039848</td>\n",
       "    </tr>\n",
       "    <tr>\n",
       "      <th>2</th>\n",
       "      <td>-1.594956</td>\n",
       "      <td>-0.540827</td>\n",
       "      <td>-0.785657</td>\n",
       "      <td>-0.296214</td>\n",
       "      <td>-0.267303</td>\n",
       "      <td>0.269448</td>\n",
       "    </tr>\n",
       "    <tr>\n",
       "      <th rowspan=\"2\" valign=\"top\">b</th>\n",
       "      <th>1</th>\n",
       "      <td>0.973766</td>\n",
       "      <td>-1.928217</td>\n",
       "      <td>-0.661333</td>\n",
       "      <td>1.326911</td>\n",
       "      <td>0.717343</td>\n",
       "      <td>2.134642</td>\n",
       "    </tr>\n",
       "    <tr>\n",
       "      <th>2</th>\n",
       "      <td>0.881771</td>\n",
       "      <td>0.318649</td>\n",
       "      <td>1.946604</td>\n",
       "      <td>-1.241086</td>\n",
       "      <td>0.536034</td>\n",
       "      <td>-0.536482</td>\n",
       "    </tr>\n",
       "  </tbody>\n",
       "</table>\n",
       "</div>"
      ],
      "text/plain": [
       "           jp                  ud                  dl          \n",
       "         cold       hot      cold       hot      cold       hot\n",
       "a 1  2.294628 -0.318873  0.317628 -1.360850  0.208652  1.039848\n",
       "  2 -1.594956 -0.540827 -0.785657 -0.296214 -0.267303  0.269448\n",
       "b 1  0.973766 -1.928217 -0.661333  1.326911  0.717343  2.134642\n",
       "  2  0.881771  0.318649  1.946604 -1.241086  0.536034 -0.536482"
      ]
     },
     "execution_count": 26,
     "metadata": {},
     "output_type": "execute_result"
    }
   ],
   "source": [
    "df1=DataFrame(randn(24).reshape((4,6)),index=[['a','a','b','b'],[1,2,1,2]],\n",
    "              columns=[['jp','jp','ud','ud','dl','dl'],['cold','hot','cold','hot','cold','hot']])\n",
    "df1\n"
   ]
  },
  {
   "cell_type": "code",
   "execution_count": 27,
   "metadata": {},
   "outputs": [
    {
     "data": {
      "text/html": [
       "<div>\n",
       "<style scoped>\n",
       "    .dataframe tbody tr th:only-of-type {\n",
       "        vertical-align: middle;\n",
       "    }\n",
       "\n",
       "    .dataframe tbody tr th {\n",
       "        vertical-align: top;\n",
       "    }\n",
       "\n",
       "    .dataframe thead tr th {\n",
       "        text-align: left;\n",
       "    }\n",
       "\n",
       "    .dataframe thead tr:last-of-type th {\n",
       "        text-align: right;\n",
       "    }\n",
       "</style>\n",
       "<table border=\"1\" class=\"dataframe\">\n",
       "  <thead>\n",
       "    <tr>\n",
       "      <th></th>\n",
       "      <th>cities</th>\n",
       "      <th colspan=\"2\" halign=\"left\">jp</th>\n",
       "      <th colspan=\"2\" halign=\"left\">ud</th>\n",
       "      <th colspan=\"2\" halign=\"left\">dl</th>\n",
       "    </tr>\n",
       "    <tr>\n",
       "      <th></th>\n",
       "      <th>temp</th>\n",
       "      <th>cold</th>\n",
       "      <th>hot</th>\n",
       "      <th>cold</th>\n",
       "      <th>hot</th>\n",
       "      <th>cold</th>\n",
       "      <th>hot</th>\n",
       "    </tr>\n",
       "    <tr>\n",
       "      <th>Index_1</th>\n",
       "      <th>Index_2</th>\n",
       "      <th></th>\n",
       "      <th></th>\n",
       "      <th></th>\n",
       "      <th></th>\n",
       "      <th></th>\n",
       "      <th></th>\n",
       "    </tr>\n",
       "  </thead>\n",
       "  <tbody>\n",
       "    <tr>\n",
       "      <th rowspan=\"2\" valign=\"top\">a</th>\n",
       "      <th>1</th>\n",
       "      <td>2.294628</td>\n",
       "      <td>-0.318873</td>\n",
       "      <td>0.317628</td>\n",
       "      <td>-1.360850</td>\n",
       "      <td>0.208652</td>\n",
       "      <td>1.039848</td>\n",
       "    </tr>\n",
       "    <tr>\n",
       "      <th>2</th>\n",
       "      <td>-1.594956</td>\n",
       "      <td>-0.540827</td>\n",
       "      <td>-0.785657</td>\n",
       "      <td>-0.296214</td>\n",
       "      <td>-0.267303</td>\n",
       "      <td>0.269448</td>\n",
       "    </tr>\n",
       "    <tr>\n",
       "      <th rowspan=\"2\" valign=\"top\">b</th>\n",
       "      <th>1</th>\n",
       "      <td>0.973766</td>\n",
       "      <td>-1.928217</td>\n",
       "      <td>-0.661333</td>\n",
       "      <td>1.326911</td>\n",
       "      <td>0.717343</td>\n",
       "      <td>2.134642</td>\n",
       "    </tr>\n",
       "    <tr>\n",
       "      <th>2</th>\n",
       "      <td>0.881771</td>\n",
       "      <td>0.318649</td>\n",
       "      <td>1.946604</td>\n",
       "      <td>-1.241086</td>\n",
       "      <td>0.536034</td>\n",
       "      <td>-0.536482</td>\n",
       "    </tr>\n",
       "  </tbody>\n",
       "</table>\n",
       "</div>"
      ],
      "text/plain": [
       "cities                 jp                  ud                  dl          \n",
       "temp                 cold       hot      cold       hot      cold       hot\n",
       "Index_1 Index_2                                                            \n",
       "a       1        2.294628 -0.318873  0.317628 -1.360850  0.208652  1.039848\n",
       "        2       -1.594956 -0.540827 -0.785657 -0.296214 -0.267303  0.269448\n",
       "b       1        0.973766 -1.928217 -0.661333  1.326911  0.717343  2.134642\n",
       "        2        0.881771  0.318649  1.946604 -1.241086  0.536034 -0.536482"
      ]
     },
     "execution_count": 27,
     "metadata": {},
     "output_type": "execute_result"
    }
   ],
   "source": [
    "df1.index.names=['Index_1','Index_2']\n",
    "df1.columns.names=['cities','temp']\n",
    "df1"
   ]
  },
  {
   "cell_type": "code",
   "execution_count": 28,
   "metadata": {},
   "outputs": [
    {
     "data": {
      "text/html": [
       "<div>\n",
       "<style scoped>\n",
       "    .dataframe tbody tr th:only-of-type {\n",
       "        vertical-align: middle;\n",
       "    }\n",
       "\n",
       "    .dataframe tbody tr th {\n",
       "        vertical-align: top;\n",
       "    }\n",
       "\n",
       "    .dataframe thead tr th {\n",
       "        text-align: left;\n",
       "    }\n",
       "\n",
       "    .dataframe thead tr:last-of-type th {\n",
       "        text-align: right;\n",
       "    }\n",
       "</style>\n",
       "<table border=\"1\" class=\"dataframe\">\n",
       "  <thead>\n",
       "    <tr>\n",
       "      <th></th>\n",
       "      <th>temp</th>\n",
       "      <th>cold</th>\n",
       "      <th>hot</th>\n",
       "      <th>cold</th>\n",
       "      <th>hot</th>\n",
       "      <th>cold</th>\n",
       "      <th>hot</th>\n",
       "    </tr>\n",
       "    <tr>\n",
       "      <th></th>\n",
       "      <th>cities</th>\n",
       "      <th>jp</th>\n",
       "      <th>jp</th>\n",
       "      <th>ud</th>\n",
       "      <th>ud</th>\n",
       "      <th>dl</th>\n",
       "      <th>dl</th>\n",
       "    </tr>\n",
       "    <tr>\n",
       "      <th>Index_1</th>\n",
       "      <th>Index_2</th>\n",
       "      <th></th>\n",
       "      <th></th>\n",
       "      <th></th>\n",
       "      <th></th>\n",
       "      <th></th>\n",
       "      <th></th>\n",
       "    </tr>\n",
       "  </thead>\n",
       "  <tbody>\n",
       "    <tr>\n",
       "      <th rowspan=\"2\" valign=\"top\">a</th>\n",
       "      <th>1</th>\n",
       "      <td>2.294628</td>\n",
       "      <td>-0.318873</td>\n",
       "      <td>0.317628</td>\n",
       "      <td>-1.360850</td>\n",
       "      <td>0.208652</td>\n",
       "      <td>1.039848</td>\n",
       "    </tr>\n",
       "    <tr>\n",
       "      <th>2</th>\n",
       "      <td>-1.594956</td>\n",
       "      <td>-0.540827</td>\n",
       "      <td>-0.785657</td>\n",
       "      <td>-0.296214</td>\n",
       "      <td>-0.267303</td>\n",
       "      <td>0.269448</td>\n",
       "    </tr>\n",
       "    <tr>\n",
       "      <th rowspan=\"2\" valign=\"top\">b</th>\n",
       "      <th>1</th>\n",
       "      <td>0.973766</td>\n",
       "      <td>-1.928217</td>\n",
       "      <td>-0.661333</td>\n",
       "      <td>1.326911</td>\n",
       "      <td>0.717343</td>\n",
       "      <td>2.134642</td>\n",
       "    </tr>\n",
       "    <tr>\n",
       "      <th>2</th>\n",
       "      <td>0.881771</td>\n",
       "      <td>0.318649</td>\n",
       "      <td>1.946604</td>\n",
       "      <td>-1.241086</td>\n",
       "      <td>0.536034</td>\n",
       "      <td>-0.536482</td>\n",
       "    </tr>\n",
       "  </tbody>\n",
       "</table>\n",
       "</div>"
      ],
      "text/plain": [
       "temp                 cold       hot      cold       hot      cold       hot\n",
       "cities                 jp        jp        ud        ud        dl        dl\n",
       "Index_1 Index_2                                                            \n",
       "a       1        2.294628 -0.318873  0.317628 -1.360850  0.208652  1.039848\n",
       "        2       -1.594956 -0.540827 -0.785657 -0.296214 -0.267303  0.269448\n",
       "b       1        0.973766 -1.928217 -0.661333  1.326911  0.717343  2.134642\n",
       "        2        0.881771  0.318649  1.946604 -1.241086  0.536034 -0.536482"
      ]
     },
     "execution_count": 28,
     "metadata": {},
     "output_type": "execute_result"
    }
   ],
   "source": [
    "df1.swaplevel('cities','temp',axis=1)"
   ]
  },
  {
   "cell_type": "code",
   "execution_count": 29,
   "metadata": {},
   "outputs": [
    {
     "data": {
      "text/html": [
       "<div>\n",
       "<style scoped>\n",
       "    .dataframe tbody tr th:only-of-type {\n",
       "        vertical-align: middle;\n",
       "    }\n",
       "\n",
       "    .dataframe tbody tr th {\n",
       "        vertical-align: top;\n",
       "    }\n",
       "\n",
       "    .dataframe thead tr th {\n",
       "        text-align: left;\n",
       "    }\n",
       "\n",
       "    .dataframe thead tr:last-of-type th {\n",
       "        text-align: right;\n",
       "    }\n",
       "</style>\n",
       "<table border=\"1\" class=\"dataframe\">\n",
       "  <thead>\n",
       "    <tr>\n",
       "      <th></th>\n",
       "      <th>cities</th>\n",
       "      <th colspan=\"2\" halign=\"left\">jp</th>\n",
       "      <th colspan=\"2\" halign=\"left\">ud</th>\n",
       "      <th colspan=\"2\" halign=\"left\">dl</th>\n",
       "    </tr>\n",
       "    <tr>\n",
       "      <th></th>\n",
       "      <th>temp</th>\n",
       "      <th>cold</th>\n",
       "      <th>hot</th>\n",
       "      <th>cold</th>\n",
       "      <th>hot</th>\n",
       "      <th>cold</th>\n",
       "      <th>hot</th>\n",
       "    </tr>\n",
       "    <tr>\n",
       "      <th>Index_1</th>\n",
       "      <th>Index_2</th>\n",
       "      <th></th>\n",
       "      <th></th>\n",
       "      <th></th>\n",
       "      <th></th>\n",
       "      <th></th>\n",
       "      <th></th>\n",
       "    </tr>\n",
       "  </thead>\n",
       "  <tbody>\n",
       "    <tr>\n",
       "      <th>a</th>\n",
       "      <th>1</th>\n",
       "      <td>2.294628</td>\n",
       "      <td>-0.318873</td>\n",
       "      <td>0.317628</td>\n",
       "      <td>-1.360850</td>\n",
       "      <td>0.208652</td>\n",
       "      <td>1.039848</td>\n",
       "    </tr>\n",
       "    <tr>\n",
       "      <th>b</th>\n",
       "      <th>1</th>\n",
       "      <td>0.973766</td>\n",
       "      <td>-1.928217</td>\n",
       "      <td>-0.661333</td>\n",
       "      <td>1.326911</td>\n",
       "      <td>0.717343</td>\n",
       "      <td>2.134642</td>\n",
       "    </tr>\n",
       "    <tr>\n",
       "      <th>a</th>\n",
       "      <th>2</th>\n",
       "      <td>-1.594956</td>\n",
       "      <td>-0.540827</td>\n",
       "      <td>-0.785657</td>\n",
       "      <td>-0.296214</td>\n",
       "      <td>-0.267303</td>\n",
       "      <td>0.269448</td>\n",
       "    </tr>\n",
       "    <tr>\n",
       "      <th>b</th>\n",
       "      <th>2</th>\n",
       "      <td>0.881771</td>\n",
       "      <td>0.318649</td>\n",
       "      <td>1.946604</td>\n",
       "      <td>-1.241086</td>\n",
       "      <td>0.536034</td>\n",
       "      <td>-0.536482</td>\n",
       "    </tr>\n",
       "  </tbody>\n",
       "</table>\n",
       "</div>"
      ],
      "text/plain": [
       "cities                 jp                  ud                  dl          \n",
       "temp                 cold       hot      cold       hot      cold       hot\n",
       "Index_1 Index_2                                                            \n",
       "a       1        2.294628 -0.318873  0.317628 -1.360850  0.208652  1.039848\n",
       "b       1        0.973766 -1.928217 -0.661333  1.326911  0.717343  2.134642\n",
       "a       2       -1.594956 -0.540827 -0.785657 -0.296214 -0.267303  0.269448\n",
       "b       2        0.881771  0.318649  1.946604 -1.241086  0.536034 -0.536482"
      ]
     },
     "execution_count": 29,
     "metadata": {},
     "output_type": "execute_result"
    }
   ],
   "source": [
    "df1.sort_index(level=1)"
   ]
  },
  {
   "cell_type": "code",
   "execution_count": 30,
   "metadata": {},
   "outputs": [
    {
     "data": {
      "text/html": [
       "<div>\n",
       "<style scoped>\n",
       "    .dataframe tbody tr th:only-of-type {\n",
       "        vertical-align: middle;\n",
       "    }\n",
       "\n",
       "    .dataframe tbody tr th {\n",
       "        vertical-align: top;\n",
       "    }\n",
       "\n",
       "    .dataframe thead tr th {\n",
       "        text-align: left;\n",
       "    }\n",
       "\n",
       "    .dataframe thead tr:last-of-type th {\n",
       "        text-align: right;\n",
       "    }\n",
       "</style>\n",
       "<table border=\"1\" class=\"dataframe\">\n",
       "  <thead>\n",
       "    <tr>\n",
       "      <th></th>\n",
       "      <th>cities</th>\n",
       "      <th colspan=\"2\" halign=\"left\">jp</th>\n",
       "      <th colspan=\"2\" halign=\"left\">ud</th>\n",
       "      <th colspan=\"2\" halign=\"left\">dl</th>\n",
       "    </tr>\n",
       "    <tr>\n",
       "      <th></th>\n",
       "      <th>temp</th>\n",
       "      <th>cold</th>\n",
       "      <th>hot</th>\n",
       "      <th>cold</th>\n",
       "      <th>hot</th>\n",
       "      <th>cold</th>\n",
       "      <th>hot</th>\n",
       "    </tr>\n",
       "    <tr>\n",
       "      <th>Index_1</th>\n",
       "      <th>Index_2</th>\n",
       "      <th></th>\n",
       "      <th></th>\n",
       "      <th></th>\n",
       "      <th></th>\n",
       "      <th></th>\n",
       "      <th></th>\n",
       "    </tr>\n",
       "  </thead>\n",
       "  <tbody>\n",
       "    <tr>\n",
       "      <th rowspan=\"2\" valign=\"top\">a</th>\n",
       "      <th>1</th>\n",
       "      <td>2.294628</td>\n",
       "      <td>-0.318873</td>\n",
       "      <td>0.317628</td>\n",
       "      <td>-1.360850</td>\n",
       "      <td>0.208652</td>\n",
       "      <td>1.039848</td>\n",
       "    </tr>\n",
       "    <tr>\n",
       "      <th>2</th>\n",
       "      <td>-1.594956</td>\n",
       "      <td>-0.540827</td>\n",
       "      <td>-0.785657</td>\n",
       "      <td>-0.296214</td>\n",
       "      <td>-0.267303</td>\n",
       "      <td>0.269448</td>\n",
       "    </tr>\n",
       "    <tr>\n",
       "      <th rowspan=\"2\" valign=\"top\">b</th>\n",
       "      <th>1</th>\n",
       "      <td>0.973766</td>\n",
       "      <td>-1.928217</td>\n",
       "      <td>-0.661333</td>\n",
       "      <td>1.326911</td>\n",
       "      <td>0.717343</td>\n",
       "      <td>2.134642</td>\n",
       "    </tr>\n",
       "    <tr>\n",
       "      <th>2</th>\n",
       "      <td>0.881771</td>\n",
       "      <td>0.318649</td>\n",
       "      <td>1.946604</td>\n",
       "      <td>-1.241086</td>\n",
       "      <td>0.536034</td>\n",
       "      <td>-0.536482</td>\n",
       "    </tr>\n",
       "  </tbody>\n",
       "</table>\n",
       "</div>"
      ],
      "text/plain": [
       "cities                 jp                  ud                  dl          \n",
       "temp                 cold       hot      cold       hot      cold       hot\n",
       "Index_1 Index_2                                                            \n",
       "a       1        2.294628 -0.318873  0.317628 -1.360850  0.208652  1.039848\n",
       "        2       -1.594956 -0.540827 -0.785657 -0.296214 -0.267303  0.269448\n",
       "b       1        0.973766 -1.928217 -0.661333  1.326911  0.717343  2.134642\n",
       "        2        0.881771  0.318649  1.946604 -1.241086  0.536034 -0.536482"
      ]
     },
     "execution_count": 30,
     "metadata": {},
     "output_type": "execute_result"
    }
   ],
   "source": [
    "df1.sort_index(level=0)"
   ]
  },
  {
   "cell_type": "code",
   "execution_count": null,
   "metadata": {},
   "outputs": [],
   "source": []
  }
 ],
 "metadata": {
  "kernelspec": {
   "display_name": "Python 3",
   "language": "python",
   "name": "python3"
  },
  "language_info": {
   "codemirror_mode": {
    "name": "ipython",
    "version": 3
   },
   "file_extension": ".py",
   "mimetype": "text/x-python",
   "name": "python",
   "nbconvert_exporter": "python",
   "pygments_lexer": "ipython3",
   "version": "3.7.1"
  }
 },
 "nbformat": 4,
 "nbformat_minor": 2
}
